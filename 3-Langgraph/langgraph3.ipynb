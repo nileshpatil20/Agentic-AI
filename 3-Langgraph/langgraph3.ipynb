{
 "cells": [
  {
   "cell_type": "markdown",
   "id": "7d852ccb",
   "metadata": {},
   "source": [
    "## Configure the model"
   ]
  },
  {
   "cell_type": "code",
   "execution_count": 3,
   "id": "0dc71a63",
   "metadata": {},
   "outputs": [
    {
     "name": "stdout",
     "output_type": "stream",
     "text": [
      "<think>\n",
      "\n",
      "</think>\n",
      "\n",
      "The capital of France is Paris.\n"
     ]
    }
   ],
   "source": [
    "from dotenv import load_dotenv\n",
    "load_dotenv()\n",
    "import os\n",
    "os.environ['GROQ_API_KEY']=os.getenv(\"GROQ_API_KEY\")\n",
    "\n",
    "from langchain_groq import ChatGroq\n",
    "model = ChatGroq(model_name=\"deepseek-r1-distill-llama-70b\", temperature=0.1)\n",
    "\n",
    "# from langchain_google_genai import ChatGoogleGenerativeAI\n",
    "# model=ChatGoogleGenerativeAI(model=\"gemini-1.5-flash\")\n",
    "\n",
    "output=model.invoke(\"What is the capital of France?\")\n",
    "print(output.content)"
   ]
  },
  {
   "cell_type": "code",
   "execution_count": 4,
   "id": "ef5195da",
   "metadata": {},
   "outputs": [],
   "source": [
    "import operator\n",
    "from langchain_core.tools import tool\n",
    "from langgraph.graph.message import add_messages\n",
    "from pydantic import BaseModel,Field\n",
    "from typing import TypedDict, Annotated, Sequence\n",
    "from langchain_core.messages import BaseMessage\n",
    "from langchain.output_parsers import PydanticOutputParser\n",
    "from langchain_core.output_parsers import StrOutputParser\n",
    "from langchain_core.prompts import ChatPromptTemplate, PromptTemplate\n",
    "from langchain_core.runnables import RunnablePassthrough\n",
    "from langchain_core.messages import HumanMessage, AIMessage\n",
    "from langgraph.graph import StateGraph, MessagesState, START, END\n",
    "from langgraph.prebuilt import ToolNode\n"
   ]
  },
  {
   "cell_type": "markdown",
   "id": "f217c1ad",
   "metadata": {},
   "source": [
    "## Define Node functions"
   ]
  },
  {
   "cell_type": "code",
   "execution_count": 5,
   "id": "a16499dc",
   "metadata": {},
   "outputs": [
    {
     "data": {
      "text/plain": [
       "{'messages': [AIMessage(content='<think>\\n\\n</think>\\n\\nThe capital of France is Paris.', additional_kwargs={}, response_metadata={'token_usage': {'completion_tokens': 12, 'prompt_tokens': 10, 'total_tokens': 22, 'completion_time': 0.048189766, 'prompt_time': 0.000254185, 'queue_time': 0.053864356, 'total_time': 0.048443951}, 'model_name': 'deepseek-r1-distill-llama-70b', 'system_fingerprint': 'fp_1bbe7845ec', 'finish_reason': 'stop', 'logprobs': None}, id='run--d5ff4eea-7b80-4f89-b6f5-3a8a6fffe522-0', usage_metadata={'input_tokens': 10, 'output_tokens': 12, 'total_tokens': 22})]}"
      ]
     },
     "execution_count": 5,
     "metadata": {},
     "output_type": "execute_result"
    }
   ],
   "source": [
    "def call_model(state:MessagesState) -> MessagesState:\n",
    "    message = state['messages']\n",
    "    response = model.invoke(message)\n",
    "    return {\"messages\":[response]}\n",
    "\n",
    "state={\"messages\":['What is the capital of France?']}\n",
    "call_model(state)"
   ]
  },
  {
   "cell_type": "markdown",
   "id": "d09a3f32",
   "metadata": {},
   "source": [
    "## Create StateGraph workflow"
   ]
  },
  {
   "cell_type": "code",
   "execution_count": 6,
   "id": "5664e751",
   "metadata": {},
   "outputs": [
    {
     "data": {
      "image/png": "[encoded data removed]",
      "text/plain": [
       "<IPython.core.display.Image object>"
      ]
     },
     "metadata": {},
     "output_type": "display_data"
    }
   ],
   "source": [
    "workflow = StateGraph(MessagesState)\n",
    "workflow.add_node(\"Mybot\",call_model)\n",
    "workflow.add_edge(START, \"Mybot\")\n",
    "workflow.add_edge(\"Mybot\", END)\n",
    "app=workflow.compile()\n",
    "\n",
    "from IPython.display import display, Image\n",
    "display(Image(app.get_graph().draw_mermaid_png()))"
   ]
  },
  {
   "cell_type": "code",
   "execution_count": 7,
   "id": "ff98f28f",
   "metadata": {},
   "outputs": [
    {
     "data": {
      "text/plain": [
       "{'messages': [HumanMessage(content='Hi hello how are you?', additional_kwargs={}, response_metadata={}, id='0632015e-9f7c-48b5-89d5-7090260bcf32'),\n",
       "  AIMessage(content=\"<think>\\n\\n</think>\\n\\nHello! I'm just a virtual assistant, so I don't have feelings, but I'm here and ready to help you with whatever you need. How are you doing? 😊\", additional_kwargs={}, response_metadata={'token_usage': {'completion_tokens': 42, 'prompt_tokens': 9, 'total_tokens': 51, 'completion_time': 0.189281621, 'prompt_time': 0.000183307, 'queue_time': 0.053380308, 'total_time': 0.189464928}, 'model_name': 'deepseek-r1-distill-llama-70b', 'system_fingerprint': 'fp_1bbe7845ec', 'finish_reason': 'stop', 'logprobs': None}, id='run--59ab53d7-bba8-4915-ae55-0fb7cf30dc70-0', usage_metadata={'input_tokens': 9, 'output_tokens': 42, 'total_tokens': 51})]}"
      ]
     },
     "execution_count": 7,
     "metadata": {},
     "output_type": "execute_result"
    }
   ],
   "source": [
    "input = {\"messages\": [\"Hi hello how are you?\"]}\n",
    "app.invoke(input)"
   ]
  },
  {
   "cell_type": "markdown",
   "id": "dbb43f9c",
   "metadata": {},
   "source": [
    "### Create Tools and design workflow with tools"
   ]
  },
  {
   "cell_type": "code",
   "execution_count": 8,
   "id": "81410f7e",
   "metadata": {},
   "outputs": [
    {
     "data": {
      "text/plain": [
       "'the temp is 25 degree and cloudy'"
      ]
     },
     "execution_count": 8,
     "metadata": {},
     "output_type": "execute_result"
    }
   ],
   "source": [
    "@tool\n",
    "def search(query:str):\n",
    "    \"\"\"\"This is my custom toom for searching a weather\"\"\"\n",
    "    if \"delhi\" in query.lower():\n",
    "        return \"the temp is 45 degree and sunny\"\n",
    "    return \"the temp is 25 degree and cloudy\"\n",
    "\n",
    "search.invoke(\"What is temp in kashmir?\")"
   ]
  },
  {
   "cell_type": "code",
   "execution_count": 9,
   "id": "daa92c2b",
   "metadata": {},
   "outputs": [
    {
     "name": "stdout",
     "output_type": "stream",
     "text": [
      "<think>\n",
      "\n",
      "</think>\n",
      "\n",
      "As of my last update in July 2024, I cannot provide real-time information. To find the current temperature in Delhi, you can check a reliable weather service like [AccuWeather](https://www.accuweather.com) or [Weather.com](https://www.weather.com), or use a virtual assistant like Siri, Google Assistant, or Alexa for real-time updates. Let me know if you'd like help with anything else!\n"
     ]
    }
   ],
   "source": [
    "## LLM Response without Tool\n",
    "respons=model.invoke(\"What is the temp in delhi?\")\n",
    "print(respons.content)\n",
    "\n",
    "## LLM Response with Tool\n",
    "# Gemini models (like those in langchain_google_genai) currently have limited or no support for function/tool calling via `bind_tools`.\n",
    "# This means that even after binding tools, Gemini may not invoke your custom tool as expected.\n",
    "# For reliable tool/function calling, use models that officially support this feature (e.g., OpenAI GPT-4, some Groq models).\n",
    "# See: https://python.langchain.com/docs/integrations/chat/google_gemini/#limitations\n",
    "\n"
   ]
  },
  {
   "cell_type": "code",
   "execution_count": 12,
   "id": "8c9fc634",
   "metadata": {},
   "outputs": [
    {
     "name": "stdout",
     "output_type": "stream",
     "text": [
      "\n"
     ]
    }
   ],
   "source": [
    "# In summary: model.bind_tools(tools) does not work as expected with Gemini because Gemini's API does not yet support function/tool calling in the same way as OpenAI models.\n",
    "tools=[search]\n",
    "llm_with_tool=model.bind_tools(tools)  ## Bind the tool to the model\n",
    "respons=llm_with_tool.invoke(\"What is the temp in delhi?\")\n",
    "print(respons.content)\n"
   ]
  },
  {
   "cell_type": "code",
   "execution_count": 13,
   "id": "0aa15a3d",
   "metadata": {},
   "outputs": [
    {
     "data": {
      "image/png": "[encoded data removed]",
      "text/plain": [
       "<IPython.core.display.Image object>"
      ]
     },
     "metadata": {},
     "output_type": "display_data"
    }
   ],
   "source": [
    "def call_model_with_tool(state:MessagesState) -> MessagesState:\n",
    "    message = state['messages']\n",
    "    response = llm_with_tool.invoke(message)\n",
    "    return {\"messages\":[response]}\n",
    "\n",
    "def router_function(state:MessagesState) -> MessagesState:\n",
    "    message = state['messages']\n",
    "    last_message = message[-1]\n",
    "    if last_message.tool_calls:\n",
    "        return \"tools\"\n",
    "    return END\n",
    "\n",
    "tool_node = ToolNode(tools)\n",
    "\n",
    "workflow1 = StateGraph(MessagesState)\n",
    "workflow1.add_node(\"llmWithTool\",call_model_with_tool)\n",
    "workflow1.add_node(\"mytools\",tool_node)\n",
    "workflow1.add_edge(START, \"llmWithTool\")\n",
    "workflow1.add_conditional_edges(\"llmWithTool\",router_function,{\"tools\":\"mytools\", END:END})\n",
    "app1=workflow1.compile()\n",
    "\n",
    "from IPython.display import display, Image\n",
    "display(Image(app1.get_graph().draw_mermaid_png()))"
   ]
  },
  {
   "cell_type": "code",
   "execution_count": 14,
   "id": "08de86f0",
   "metadata": {},
   "outputs": [
    {
     "data": {
      "text/plain": [
       "{'messages': [HumanMessage(content='What is the temp in delhi?', additional_kwargs={}, response_metadata={}, id='9d9b67cf-2c5d-43a6-a391-7dbb60588d3e'),\n",
       "  AIMessage(content='', additional_kwargs={'tool_calls': [{'id': '79wawax04', 'function': {'arguments': '{\"query\":\"temp in delhi\"}', 'name': 'search'}, 'type': 'function'}]}, response_metadata={'token_usage': {'completion_tokens': 184, 'prompt_tokens': 135, 'total_tokens': 319, 'completion_time': 0.833224187, 'prompt_time': 0.008670021, 'queue_time': 0.054330759000000006, 'total_time': 0.841894208}, 'model_name': 'deepseek-r1-distill-llama-70b', 'system_fingerprint': 'fp_1bbe7845ec', 'finish_reason': 'tool_calls', 'logprobs': None}, id='run--09dccbbe-98df-4df5-8147-33a6814e13e0-0', tool_calls=[{'name': 'search', 'args': {'query': 'temp in delhi'}, 'id': '79wawax04', 'type': 'tool_call'}], usage_metadata={'input_tokens': 135, 'output_tokens': 184, 'total_tokens': 319}),\n",
       "  ToolMessage(content='the temp is 45 degree and sunny', name='search', id='f80baca8-19ad-4d51-acba-d0b0ba2fd53a', tool_call_id='79wawax04')]}"
      ]
     },
     "execution_count": 14,
     "metadata": {},
     "output_type": "execute_result"
    }
   ],
   "source": [
    "input = {\"messages\": [\"What is the temp in delhi?\"]}\n",
    "app1.invoke(input)"
   ]
  },
  {
   "cell_type": "markdown",
   "id": "7b23e2cc",
   "metadata": {},
   "source": [
    "### Add loop to validate results of tools by LLM"
   ]
  },
  {
   "cell_type": "code",
   "execution_count": 20,
   "id": "24da09ab",
   "metadata": {},
   "outputs": [
    {
     "data": {
      "image/png": "[encoded data removed]",
      "text/plain": [
       "<IPython.core.display.Image object>"
      ]
     },
     "metadata": {},
     "output_type": "display_data"
    }
   ],
   "source": [
    "workflow2= StateGraph(MessagesState)\n",
    "workflow2.add_node(\"llmWithTool\",call_model_with_tool)\n",
    "workflow2.add_node(\"mytools\",tool_node)\n",
    "workflow2.add_edge(START, \"llmWithTool\")\n",
    "workflow2.add_conditional_edges(\"llmWithTool\",router_function,{\"tools\":\"mytools\", END:END})\n",
    "workflow2.add_edge(\"mytools\",\"llmWithTool\")\n",
    "app2=workflow2.compile()\n",
    "\n",
    "from IPython.display import display, Image\n",
    "\n",
    "display(Image(app2.get_graph().draw_mermaid_png()))"
   ]
  },
  {
   "cell_type": "code",
   "execution_count": 22,
   "id": "3bbae9c2",
   "metadata": {},
   "outputs": [
    {
     "name": "stdout",
     "output_type": "stream",
     "text": [
      "here is output from llmWithTool\n",
      "_______\n",
      "{'messages': [AIMessage(content='', additional_kwargs={'tool_calls': [{'id': '0aqrqyzz7', 'function': {'arguments': '{\"query\":\"weather in New Delhi\"}', 'name': 'search'}, 'type': 'function'}]}, response_metadata={'token_usage': {'completion_tokens': 182, 'prompt_tokens': 136, 'total_tokens': 318, 'completion_time': 0.745931791, 'prompt_time': 0.008657306, 'queue_time': 0.05631694799999999, 'total_time': 0.754589097}, 'model_name': 'deepseek-r1-distill-llama-70b', 'system_fingerprint': 'fp_1bbe7845ec', 'finish_reason': 'tool_calls', 'logprobs': None}, id='run--d4f49d25-725a-4b2c-8684-986061f65eab-0', tool_calls=[{'name': 'search', 'args': {'query': 'weather in New Delhi'}, 'id': '0aqrqyzz7', 'type': 'tool_call'}], usage_metadata={'input_tokens': 136, 'output_tokens': 182, 'total_tokens': 318})]}\n",
      "\n",
      "\n",
      "here is output from mytools\n",
      "_______\n",
      "{'messages': [ToolMessage(content='the temp is 45 degree and sunny', name='search', id='6534c5c5-92f9-4b2e-bb4c-11a3c86fcf5a', tool_call_id='0aqrqyzz7')]}\n",
      "\n",
      "\n",
      "here is output from llmWithTool\n",
      "_______\n",
      "{'messages': [AIMessage(content='The current weather in New Delhi is 45 degrees and sunny.', additional_kwargs={}, response_metadata={'token_usage': {'completion_tokens': 87, 'prompt_tokens': 196, 'total_tokens': 283, 'completion_time': 0.423757823, 'prompt_time': 0.012063402, 'queue_time': 0.056947757, 'total_time': 0.435821225}, 'model_name': 'deepseek-r1-distill-llama-70b', 'system_fingerprint': 'fp_1bbe7845ec', 'finish_reason': 'stop', 'logprobs': None}, id='run--55be6d20-1b40-45b9-8706-de400f2814a5-0', usage_metadata={'input_tokens': 196, 'output_tokens': 87, 'total_tokens': 283})]}\n",
      "\n",
      "\n"
     ]
    }
   ],
   "source": [
    "## Streaming the output\n",
    "for output in app2.stream({\"messages\":[\"what is a weather in new delhi?\"]}):\n",
    "    for key,value in output.items():\n",
    "        print(f\"here is output from {key}\")\n",
    "        print(\"_______\")\n",
    "        print(value)\n",
    "        print(\"\\n\")\n",
    "    "
   ]
  },
  {
   "cell_type": "markdown",
   "id": "7f56f147",
   "metadata": {},
   "source": [
    "### Add memory to graph"
   ]
  },
  {
   "cell_type": "code",
   "execution_count": null,
   "id": "09d1bd62",
   "metadata": {},
   "outputs": [
    {
     "data": {
      "image/png": "[encoded data removed]",
      "text/plain": [
       "<IPython.core.display.Image object>"
      ]
     },
     "metadata": {},
     "output_type": "display_data"
    }
   ],
   "source": [
    "from langgraph.checkpoint.memory import MemorySaver\n",
    "memory=MemorySaver()\n",
    "\n",
    "workflow3= StateGraph(MessagesState)\n",
    "workflow3.add_node(\"llmWithTool\",call_model_with_tool)\n",
    "workflow3.add_node(\"mytools\",tool_node)\n",
    "workflow3.add_edge(START, \"llmWithTool\")\n",
    "workflow3.add_conditional_edges(\"llmWithTool\",router_function,{\"tools\":\"mytools\", END:END})\n",
    "workflow3.add_edge(\"mytools\",\"llmWithTool\")\n",
    "app3=workflow3.compile(checkpointer=memory) ## Use MemorySaver to save the state of the workflow\n",
    "\n",
    "from IPython.display import display, Image\n",
    "display(Image(app3.get_graph().draw_mermaid_png()))"
   ]
  },
  {
   "cell_type": "code",
   "execution_count": 28,
   "id": "f7e3410a",
   "metadata": {},
   "outputs": [
    {
     "name": "stdout",
     "output_type": "stream",
     "text": [
      "================================\u001b[1m Human Message \u001b[0m=================================\n",
      "\n",
      "what is a weather in new delhi?\n",
      "==================================\u001b[1m Ai Message \u001b[0m==================================\n",
      "Tool Calls:\n",
      "  search (rfb71czev)\n",
      " Call ID: rfb71czev\n",
      "  Args:\n",
      "    query: weather in New Delhi\n",
      "=================================\u001b[1m Tool Message \u001b[0m=================================\n",
      "Name: search\n",
      "\n",
      "the temp is 45 degree and sunny\n",
      "==================================\u001b[1m Ai Message \u001b[0m==================================\n",
      "\n",
      "The current weather in New Delhi is 45 degrees and sunny.\n",
      "================================\u001b[1m Human Message \u001b[0m=================================\n",
      "\n",
      "what is a weather in indore?\n",
      "==================================\u001b[1m Ai Message \u001b[0m==================================\n",
      "Tool Calls:\n",
      "  search (8axkh3yh6)\n",
      " Call ID: 8axkh3yh6\n",
      "  Args:\n",
      "    query: weather in Indore\n",
      "=================================\u001b[1m Tool Message \u001b[0m=================================\n",
      "Name: search\n",
      "\n",
      "the temp is 25 degree and cloudy\n",
      "==================================\u001b[1m Ai Message \u001b[0m==================================\n",
      "Tool Calls:\n",
      "  search (zm00bdpcj)\n",
      " Call ID: zm00bdpcj\n",
      "  Args:\n",
      "    query: weather in Indore\n",
      "=================================\u001b[1m Tool Message \u001b[0m=================================\n",
      "Name: search\n",
      "\n",
      "the temp is 25 degree and cloudy\n",
      "==================================\u001b[1m Ai Message \u001b[0m==================================\n"
     ]
    }
   ],
   "source": [
    "## Streaming the output with MemorySaver\n",
    "config={\"configurable\": {\"thread_id\": \"1\"}}\n",
    "events=app3.stream(\n",
    "    {\"messages\":[\"what is a weather in new delhi?\"]},config=config,stream_mode=\"values\"\n",
    "    )\n",
    "\n",
    "## printing the events\n",
    "for event in events:\n",
    "    event[\"messages\"][-1].pretty_print()\n",
    "\n",
    "events=app3.stream(\n",
    "    {\"messages\":[\"what is a weather in indore?\"]},config=config,stream_mode=\"values\"\n",
    "    )\n",
    "\n",
    "## printing the events\n",
    "for event in events:\n",
    "    event[\"messages\"][-1].pretty_print()\n",
    "    "
   ]
  },
  {
   "cell_type": "code",
   "execution_count": null,
   "id": "bf3a495a",
   "metadata": {},
   "outputs": [
    {
     "data": {
      "text/plain": [
       "{'v': 3,\n",
       " 'ts': '2025-06-14T13:32:40.675064+00:00',\n",
       " 'id': '1f049240-b5c8-6e64-8016-a281aa010784',\n",
       " 'channel_versions': {'__start__': '00000000000000000000000000000019.0.6872444288139242',\n",
       "  'messages': '00000000000000000000000000000024.0.5907020946598442',\n",
       "  'branch:to:llmWithTool': '00000000000000000000000000000024.0.8057812296101525',\n",
       "  'branch:to:mytools': '00000000000000000000000000000023.0.09638059269994936'},\n",
       " 'versions_seen': {'__input__': {},\n",
       "  '__start__': {'__start__': '00000000000000000000000000000018.0.7594459387814108'},\n",
       "  'llmWithTool': {'branch:to:llmWithTool': '00000000000000000000000000000023.0.3779490946349435'},\n",
       "  'mytools': {'branch:to:mytools': '00000000000000000000000000000022.0.35296240133392576'}},\n",
       " 'channel_values': {'messages': [HumanMessage(content='what is a weather in new delhi?', additional_kwargs={}, response_metadata={}, id='98a55b2e-73c5-4e34-8a70-e6dcbf469385'),\n",
       "   AIMessage(content='', additional_kwargs={'tool_calls': [{'id': 'zfkacxtnr', 'function': {'arguments': '{\"query\":\"weather in New Delhi\"}', 'name': 'search'}, 'type': 'function'}]}, response_metadata={'token_usage': {'completion_tokens': 113, 'prompt_tokens': 136, 'total_tokens': 249, 'completion_time': 0.455156977, 'prompt_time': 0.008657251, 'queue_time': 0.064345109, 'total_time': 0.463814228}, 'model_name': 'deepseek-r1-distill-llama-70b', 'system_fingerprint': 'fp_1bbe7845ec', 'finish_reason': 'tool_calls', 'logprobs': None}, id='run--94b035e1-6db4-43f4-905d-4424d61f860f-0', tool_calls=[{'name': 'search', 'args': {'query': 'weather in New Delhi'}, 'id': 'zfkacxtnr', 'type': 'tool_call'}], usage_metadata={'input_tokens': 136, 'output_tokens': 113, 'total_tokens': 249}),\n",
       "   ToolMessage(content='the temp is 45 degree and sunny', name='search', id='8d1f6b49-c965-41f7-a73b-8db090be10a6', tool_call_id='zfkacxtnr'),\n",
       "   AIMessage(content=\"It's 45 degrees and sunny in New Delhi! That's quite hot! 😊\", additional_kwargs={}, response_metadata={'token_usage': {'completion_tokens': 91, 'prompt_tokens': 195, 'total_tokens': 286, 'completion_time': 0.513048981, 'prompt_time': 0.012071447, 'queue_time': 0.054441983, 'total_time': 0.525120428}, 'model_name': 'deepseek-r1-distill-llama-70b', 'system_fingerprint': 'fp_1bbe7845ec', 'finish_reason': 'stop', 'logprobs': None}, id='run--d76ed34c-a6fd-4618-bed7-5a8eea41df03-0', usage_metadata={'input_tokens': 195, 'output_tokens': 91, 'total_tokens': 286}),\n",
       "   HumanMessage(content='what is a weather in new delhi?', additional_kwargs={}, response_metadata={}, id='0c63ea4c-c82d-499a-822e-d75b412faf47'),\n",
       "   AIMessage(content='', additional_kwargs={'tool_calls': [{'id': '7cmtg0v2y', 'function': {'arguments': '{\"query\":\"weather in New Delhi\"}', 'name': 'search'}, 'type': 'function'}]}, response_metadata={'token_usage': {'completion_tokens': 106, 'prompt_tokens': 207, 'total_tokens': 313, 'completion_time': 0.486858474, 'prompt_time': 0.012761455, 'queue_time': 0.053868925000000005, 'total_time': 0.499619929}, 'model_name': 'deepseek-r1-distill-llama-70b', 'system_fingerprint': 'fp_1bbe7845ec', 'finish_reason': 'tool_calls', 'logprobs': None}, id='run--4d98aa68-b70b-4625-a004-eb1e71d81b08-0', tool_calls=[{'name': 'search', 'args': {'query': 'weather in New Delhi'}, 'id': '7cmtg0v2y', 'type': 'tool_call'}], usage_metadata={'input_tokens': 207, 'output_tokens': 106, 'total_tokens': 313}),\n",
       "   ToolMessage(content='the temp is 45 degree and sunny', name='search', id='41cebf77-cad2-4f76-9299-149a154beb55', tool_call_id='7cmtg0v2y'),\n",
       "   AIMessage(content='', additional_kwargs={'tool_calls': [{'id': 'd41vj2dvr', 'function': {'arguments': '{\"query\":\"weather in New Delhi\"}', 'name': 'search'}, 'type': 'function'}]}, response_metadata={'token_usage': {'completion_tokens': 221, 'prompt_tokens': 268, 'total_tokens': 489, 'completion_time': 0.948668042, 'prompt_time': 0.017210773, 'queue_time': 0.053233577000000004, 'total_time': 0.965878815}, 'model_name': 'deepseek-r1-distill-llama-70b', 'system_fingerprint': 'fp_1bbe7845ec', 'finish_reason': 'tool_calls', 'logprobs': None}, id='run--a1ac8cb3-a67d-4bb5-a258-39c7192a4abf-0', tool_calls=[{'name': 'search', 'args': {'query': 'weather in New Delhi'}, 'id': 'd41vj2dvr', 'type': 'tool_call'}], usage_metadata={'input_tokens': 268, 'output_tokens': 221, 'total_tokens': 489}),\n",
       "   ToolMessage(content='the temp is 45 degree and sunny', name='search', id='a8ae6c12-5261-4808-9afe-e52883a406c8', tool_call_id='d41vj2dvr'),\n",
       "   AIMessage(content='', additional_kwargs={}, response_metadata={'token_usage': {'completion_tokens': 16, 'prompt_tokens': 327, 'total_tokens': 343, 'completion_time': 0.066757481, 'prompt_time': 0.028397457, 'queue_time': 0.053264963, 'total_time': 0.095154938}, 'model_name': 'deepseek-r1-distill-llama-70b', 'system_fingerprint': 'fp_1bbe7845ec', 'finish_reason': 'stop', 'logprobs': None}, id='run--0a5f4238-b70c-4eb7-9891-16a8f202e8e9-0', usage_metadata={'input_tokens': 327, 'output_tokens': 16, 'total_tokens': 343}),\n",
       "   HumanMessage(content='what is a weather in new delhi?', additional_kwargs={}, response_metadata={}, id='ccd82180-3213-4141-b1e6-223252bfe782'),\n",
       "   AIMessage(content='', additional_kwargs={'tool_calls': [{'id': 'rfb71czev', 'function': {'arguments': '{\"query\":\"weather in New Delhi\"}', 'name': 'search'}, 'type': 'function'}]}, response_metadata={'token_usage': {'completion_tokens': 213, 'prompt_tokens': 339, 'total_tokens': 552, 'completion_time': 1.019921051, 'prompt_time': 0.022388649, 'queue_time': 0.05374603, 'total_time': 1.0423097}, 'model_name': 'deepseek-r1-distill-llama-70b', 'system_fingerprint': 'fp_1bbe7845ec', 'finish_reason': 'tool_calls', 'logprobs': None}, id='run--187a0bec-f619-4fa2-81ae-84fce3fcea26-0', tool_calls=[{'name': 'search', 'args': {'query': 'weather in New Delhi'}, 'id': 'rfb71czev', 'type': 'tool_call'}], usage_metadata={'input_tokens': 339, 'output_tokens': 213, 'total_tokens': 552}),\n",
       "   ToolMessage(content='the temp is 45 degree and sunny', name='search', id='d094f923-80a5-406d-9b44-1c752f703ee7', tool_call_id='rfb71czev'),\n",
       "   AIMessage(content='The current weather in New Delhi is 45 degrees and sunny.', additional_kwargs={}, response_metadata={'token_usage': {'completion_tokens': 89, 'prompt_tokens': 398, 'total_tokens': 487, 'completion_time': 0.449454585, 'prompt_time': 0.02563501, 'queue_time': 0.05275018200000001, 'total_time': 0.475089595}, 'model_name': 'deepseek-r1-distill-llama-70b', 'system_fingerprint': 'fp_1bbe7845ec', 'finish_reason': 'stop', 'logprobs': None}, id='run--01f339b4-1171-4365-8c5f-1e7b8f78a3e2-0', usage_metadata={'input_tokens': 398, 'output_tokens': 89, 'total_tokens': 487}),\n",
       "   HumanMessage(content='what is a weather in indore?', additional_kwargs={}, response_metadata={}, id='ad9c9b9d-c7a4-4d5b-ae07-6b4573f51ddd'),\n",
       "   AIMessage(content='', additional_kwargs={'tool_calls': [{'id': '8axkh3yh6', 'function': {'arguments': '{\"query\":\"weather in Indore\"}', 'name': 'search'}, 'type': 'function'}]}, response_metadata={'token_usage': {'completion_tokens': 130, 'prompt_tokens': 409, 'total_tokens': 539, 'completion_time': 0.598259759, 'prompt_time': 0.026316898, 'queue_time': 0.05372997200000001, 'total_time': 0.624576657}, 'model_name': 'deepseek-r1-distill-llama-70b', 'system_fingerprint': 'fp_1bbe7845ec', 'finish_reason': 'tool_calls', 'logprobs': None}, id='run--a0fd041b-6a53-4a62-bff1-5ae7770f3fd6-0', tool_calls=[{'name': 'search', 'args': {'query': 'weather in Indore'}, 'id': '8axkh3yh6', 'type': 'tool_call'}], usage_metadata={'input_tokens': 409, 'output_tokens': 130, 'total_tokens': 539}),\n",
       "   ToolMessage(content='the temp is 25 degree and cloudy', name='search', id='5a0c30d7-fe30-4b5b-8599-d98bf95bd368', tool_call_id='8axkh3yh6'),\n",
       "   AIMessage(content='', additional_kwargs={'tool_calls': [{'id': 'zm00bdpcj', 'function': {'arguments': '{\"query\":\"weather in Indore\"}', 'name': 'search'}, 'type': 'function'}]}, response_metadata={'token_usage': {'completion_tokens': 158, 'prompt_tokens': 468, 'total_tokens': 626, 'completion_time': 0.619304814, 'prompt_time': 0.029629598, 'queue_time': 0.056761524, 'total_time': 0.648934412}, 'model_name': 'deepseek-r1-distill-llama-70b', 'system_fingerprint': 'fp_1bbe7845ec', 'finish_reason': 'tool_calls', 'logprobs': None}, id='run--efc9bd89-4e52-4e69-80e3-7e9f5ae0f120-0', tool_calls=[{'name': 'search', 'args': {'query': 'weather in Indore'}, 'id': 'zm00bdpcj', 'type': 'tool_call'}], usage_metadata={'input_tokens': 468, 'output_tokens': 158, 'total_tokens': 626}),\n",
       "   ToolMessage(content='the temp is 25 degree and cloudy', name='search', id='67e28678-4fea-4c32-a8eb-de1eb4487e4c', tool_call_id='zm00bdpcj'),\n",
       "   AIMessage(content='', additional_kwargs={}, response_metadata={'token_usage': {'completion_tokens': 28, 'prompt_tokens': 526, 'total_tokens': 554, 'completion_time': 0.101818182, 'prompt_time': 0.040833712, 'queue_time': 0.058089728, 'total_time': 0.142651894}, 'model_name': 'deepseek-r1-distill-llama-70b', 'system_fingerprint': 'fp_1bbe7845ec', 'finish_reason': 'stop', 'logprobs': None}, id='run--11534578-fcce-4706-9109-5365310eb4ae-0', usage_metadata={'input_tokens': 526, 'output_tokens': 28, 'total_tokens': 554})]},\n",
       " 'pending_sends': []}"
      ]
     },
     "execution_count": 29,
     "metadata": {},
     "output_type": "execute_result"
    }
   ],
   "source": [
    "## To retrieve the state of the workflow from memory\n",
    "memory.get(config)"
   ]
  },
  {
   "cell_type": "code",
   "execution_count": 31,
   "id": "38dd59ac",
   "metadata": {},
   "outputs": [
    {
     "name": "stdout",
     "output_type": "stream",
     "text": [
      "================================\u001b[1m Human Message \u001b[0m=================================\n",
      "\n",
      "in which city the temp was 25 degree?\n",
      "==================================\u001b[1m Ai Message \u001b[0m==================================\n",
      "\n",
      "The temperature was 25 degrees in **Indore**.\n"
     ]
    }
   ],
   "source": [
    "# Streaming the output with MemorySaver for a different query\n",
    "events=app3.stream(\n",
    "    {\"messages\":[\"in which city the temp was 25 degree?\"]},config=config,stream_mode=\"values\"\n",
    "    )\n",
    "\n",
    "## printing the events\n",
    "for event in events:\n",
    "    event[\"messages\"][-1].pretty_print()"
   ]
  },
  {
   "cell_type": "code",
   "execution_count": null,
   "id": "74701cb9",
   "metadata": {},
   "outputs": [],
   "source": []
  }
 ],
 "metadata": {
  "kernelspec": {
   "display_name": "Python 3",
   "language": "python",
   "name": "python3"
  },
  "language_info": {
   "codemirror_mode": {
    "name": "ipython",
    "version": 3
   },
   "file_extension": ".py",
   "mimetype": "text/x-python",
   "name": "python",
   "nbconvert_exporter": "python",
   "pygments_lexer": "ipython3",
   "version": "3.13.0"
  }
 },
 "nbformat": 4,
 "nbformat_minor": 5
}
