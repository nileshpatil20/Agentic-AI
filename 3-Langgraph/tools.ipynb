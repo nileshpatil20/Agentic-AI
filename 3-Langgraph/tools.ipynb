{
 "cells": [
  {
   "cell_type": "code",
   "execution_count": 23,
   "id": "a6274a74",
   "metadata": {},
   "outputs": [
    {
     "data": {
      "text/plain": [
       "True"
      ]
     },
     "execution_count": 23,
     "metadata": {},
     "output_type": "execute_result"
    }
   ],
   "source": [
    "from dotenv import load_dotenv\n",
    "load_dotenv()"
   ]
  },
  {
   "cell_type": "code",
   "execution_count": 24,
   "id": "1c7ebfa4",
   "metadata": {},
   "outputs": [],
   "source": [
    "import os\n",
    "os.environ['TAVILY_API_KEY']=os.getenv(\"TAVILY_API_KEY\")"
   ]
  },
  {
   "cell_type": "markdown",
   "id": "2c8f945e",
   "metadata": {},
   "source": [
    "# Wikipedia Search"
   ]
  },
  {
   "cell_type": "code",
   "execution_count": 1,
   "id": "2dd6bf53",
   "metadata": {},
   "outputs": [],
   "source": [
    "from langchain_community.tools import WikipediaQueryRun"
   ]
  },
  {
   "cell_type": "code",
   "execution_count": 2,
   "id": "2dea8e60",
   "metadata": {},
   "outputs": [],
   "source": [
    "from langchain_community.utilities import WikipediaAPIWrapper"
   ]
  },
  {
   "cell_type": "code",
   "execution_count": 3,
   "id": "07a705dd",
   "metadata": {},
   "outputs": [],
   "source": [
    "api_wrapper=WikipediaAPIWrapper(top_k_results=5,doc_content_chars_max=500)"
   ]
  },
  {
   "cell_type": "code",
   "execution_count": 4,
   "id": "c477faf2",
   "metadata": {},
   "outputs": [],
   "source": [
    "wiki_tool=WikipediaQueryRun(api_wrapper=api_wrapper)"
   ]
  },
  {
   "cell_type": "code",
   "execution_count": 6,
   "id": "d50b7851",
   "metadata": {},
   "outputs": [
    {
     "data": {
      "text/plain": [
       "'A wrapper around Wikipedia. Useful for when you need to answer general questions about people, places, companies, facts, historical events, or other subjects. Input should be a search query.'"
      ]
     },
     "execution_count": 6,
     "metadata": {},
     "output_type": "execute_result"
    }
   ],
   "source": [
    "wiki_tool.description"
   ]
  },
  {
   "cell_type": "code",
   "execution_count": 7,
   "id": "3a7a8f9f",
   "metadata": {},
   "outputs": [
    {
     "data": {
      "text/plain": [
       "{'query': {'description': 'query to look up on wikipedia',\n",
       "  'title': 'Query',\n",
       "  'type': 'string'}}"
      ]
     },
     "execution_count": 7,
     "metadata": {},
     "output_type": "execute_result"
    }
   ],
   "source": [
    "wiki_tool.args"
   ]
  },
  {
   "cell_type": "code",
   "execution_count": 8,
   "id": "12e8412b",
   "metadata": {},
   "outputs": [
    {
     "data": {
      "text/plain": [
       "\"Page: Elon Musk\\nSummary: Elon Reeve Musk ( EE-lon; born June 28, 1971) is a businessman known for his leadership of Tesla, SpaceX, X (formerly Twitter) and DOGE. Musk has been considered the wealthiest person in the world since 2021; as of May 2025, Forbes estimates his net worth to be US$424.7 billion. \\nBorn to a wealthy family in Pretoria, South Africa, Musk emigrated in 1989 to Canada. He received bachelor's degrees from the University of Pennsylvania in 1997 before moving to California, Unit\""
      ]
     },
     "execution_count": 8,
     "metadata": {},
     "output_type": "execute_result"
    }
   ],
   "source": [
    "wiki_tool.run({'query':'elon musk'})"
   ]
  },
  {
   "cell_type": "code",
   "execution_count": 11,
   "id": "5272b233",
   "metadata": {},
   "outputs": [
    {
     "name": "stderr",
     "output_type": "stream",
     "text": [
      "c:\\Users\\niles\\Agentic-AI2.0\\venv\\Lib\\site-packages\\wikipedia\\wikipedia.py:389: GuessedAtParserWarning: No parser was explicitly specified, so I'm using the best available HTML parser for this system (\"html.parser\"). This usually isn't a problem, but if you run this code on another system, or in a different virtual environment, it may use a different parser and behave differently.\n",
      "\n",
      "The code that caused this warning is on line 389 of the file c:\\Users\\niles\\Agentic-AI2.0\\venv\\Lib\\site-packages\\wikipedia\\wikipedia.py. To get rid of this warning, pass the additional argument 'features=\"html.parser\"' to the BeautifulSoup constructor.\n",
      "\n",
      "  lis = BeautifulSoup(html).find_all('li')\n"
     ]
    },
    {
     "data": {
      "text/plain": [
       "\"Page: Royal Challengers Bengaluru\\nSummary: Royal Challengers Bengaluru, formerly known as Royal Challengers Bangalore, commonly known as RCB, is a professional T20 franchise cricket team based in Bengaluru, Karnataka, that competes in the Indian Premier League. Founded in 2008 by United Spirits, the team's home ground is M. Chinnaswamy Stadium. RCB won their first title in 2025. The team has also finished as the runners-up on three occasions: in 2009, 2011, and 2016. They have also qualified for\""
      ]
     },
     "execution_count": 11,
     "metadata": {},
     "output_type": "execute_result"
    }
   ],
   "source": [
    "wiki_tool.run('RCB')"
   ]
  },
  {
   "cell_type": "markdown",
   "id": "328ff425",
   "metadata": {},
   "source": [
    "# Youtube Search"
   ]
  },
  {
   "cell_type": "code",
   "execution_count": 12,
   "id": "fcdc1f62",
   "metadata": {},
   "outputs": [],
   "source": [
    "from langchain_community.tools import YouTubeSearchTool"
   ]
  },
  {
   "cell_type": "code",
   "execution_count": 13,
   "id": "8bb84590",
   "metadata": {},
   "outputs": [],
   "source": [
    "tool=YouTubeSearchTool()"
   ]
  },
  {
   "cell_type": "code",
   "execution_count": 14,
   "id": "a5389f78",
   "metadata": {},
   "outputs": [
    {
     "data": {
      "text/plain": [
       "'youtube_search'"
      ]
     },
     "execution_count": 14,
     "metadata": {},
     "output_type": "execute_result"
    }
   ],
   "source": [
    "tool.name"
   ]
  },
  {
   "cell_type": "code",
   "execution_count": 15,
   "id": "149ed06c",
   "metadata": {},
   "outputs": [
    {
     "data": {
      "text/plain": [
       "'search for youtube videos associated with a person. the input to this tool should be a comma separated list, the first part contains a person name and the second a number that is the maximum number of video results to return aka num_results. the second part is optional'"
      ]
     },
     "execution_count": 15,
     "metadata": {},
     "output_type": "execute_result"
    }
   ],
   "source": [
    "tool.description"
   ]
  },
  {
   "cell_type": "code",
   "execution_count": 17,
   "id": "de85d53d",
   "metadata": {},
   "outputs": [
    {
     "data": {
      "text/plain": [
       "\"['https://www.youtube.com/watch?v=0UVvYv9bGyI&pp=ygUMTmlsZXNoIFBhdGls', 'https://www.youtube.com/watch?v=LVZzFLNPVMM&pp=ygUMTmlsZXNoIFBhdGls']\""
      ]
     },
     "execution_count": 17,
     "metadata": {},
     "output_type": "execute_result"
    }
   ],
   "source": [
    "tool.run('Nilesh Patil')"
   ]
  },
  {
   "cell_type": "markdown",
   "id": "5763b7a7",
   "metadata": {},
   "source": [
    "# Tavily Search"
   ]
  },
  {
   "cell_type": "code",
   "execution_count": 18,
   "id": "074062d8",
   "metadata": {},
   "outputs": [],
   "source": [
    "from langchain_community.tools.tavily_search import TavilySearchResults"
   ]
  },
  {
   "cell_type": "code",
   "execution_count": 25,
   "id": "2c5d4270",
   "metadata": {},
   "outputs": [],
   "source": [
    "tool=TavilySearchResults(tavily_api_key=os.environ['TAVILY_API_KEY'])"
   ]
  },
  {
   "cell_type": "code",
   "execution_count": 20,
   "id": "a9d4c35a",
   "metadata": {},
   "outputs": [
    {
     "data": {
      "text/plain": [
       "[{'title': '11 Dead In RCB Victory Parade Stampede - YouTube',\n",
       "  'url': 'https://www.youtube.com/watch?v=kgwctnQYZIM',\n",
       "  'content': \"### Description\\n3644 views\\nPosted: 5 Jun 2025\\nA stampede at the Royal Challengers Bangaluru (RCB) victory parade resulted in 11 deaths. Sources reveal that police had warned against holding the event on a weekday and had not given permission. RCB announced the parade and free entry without police consultation, leading to a massive crowd of nearly 8 lakh people overwhelming the 1,000 deployed policemen. The event's organization and lack of proper permissions are now under scrutiny. [...] victory parade is happening. It created euphoria amongst the fans. RCB did not consult the police before tweeting on the victory parade and that went viral. that had all these fans line up and queue up outside the Chinaswami stadium where it was far from a queue because it was a crowd that led to a stampede. The Bangalore police also then called up the RCB and said that no permission has been given for the victory parade. So why is it that the RCB chose to announce the victory parade? RCB had [...] 11 deaths have happened and sources uh revealed to India today that the cops wanted the event postponed. They had said that it is a weekday and it was not a good idea to hold the event on that day. They had issued a clear warning. Sources also tell India today that the RCB had organized the parade and the RCB had not consulted the cops about it. In fact, we are also learning how the RCB had announced pre- entry. They were going ahead with the euphoria among the fans and free entry was announced\",\n",
       "  'score': 0.8014549},\n",
       " {'title': 'RCB victory parade stampede updates: Bengaluru city chief B ...',\n",
       "  'url': 'https://www.thehindu.com/news/national/rcb-ipl-victory-parade-stampede-death-toll-virat-kohli-chinnaswamy-stadium-live/article69656707.ece',\n",
       "  'content': 'The back and forth that happened through Wednesday, over the victory parade, indicates that the police advice was not strictly adhered to by the political leadership as well. The traffic police, which said there would be no victory parade by noon, issued traffic diversions for a victory parade “in case it happens” by 3 p.m., indicating pressure to allow the parade. It was cancelled only after a stampede at the stadium led to deaths. Not only this, the State government also felicitated the team [...] Sachin Tendulkar has offered his condolences on the loss of 11 lives in a stampede outside Bengaluru’s Chinnaswamy Stadium during RCB’s IPL victory celebrations, describing the incident as “beyond tragic”.\\n\\nOn the day the stampede broke out in Bengaluru while celebrating the victory of Royal Challengers Bengaluru (RCB) in the IPL final, killing 11 and leaving scores injured, the Namma Metro witnessed unprecedented footfall. [...] A mound of shoes and sandals lying here and there and some pieces of what appeared to be sports apparel and merchandise were the telltale signs of the stampede that broke out in the immediate vicinity of the Chinnaswamy stadium in Bengaluru, leading to the deaths of 11 persons and injuries to 33 enthusiasts.\\n\\nAs the celebratory mood kicked in to commemorate the first ever IPL title win by the RCB, massive crowds of young men and women, touching lakhs, gathered just outside the stadium.',\n",
       "  'score': 0.7602419},\n",
       " {'title': 'RCB victory parade stampede: FIR filed against Royal Challengers ...',\n",
       "  'url': 'https://timesofindia.indiatimes.com/india/rcb-victory-parade-stampede-fir-filed-against-royal-challengers-bengaluru-event-organisers-for-criminal-negligence/articleshow/121649849.cms',\n",
       "  'content': \"[](https://timesofindia.indiatimes.com/sports/cricket/ipl/top-stories/bengaluru-stampede-krunal-pandya-breaks-silence-says-rcb-victory-parade-was-meant-to-share-our-joy/articleshow/121644873.cms)[Bengaluru Stampede: Krunal Pandya breaks silence, says RCB victory parade 'was meant to share our joy'Cricket News: A stampede outside Bengaluru's M. Chinnaswamy Stadium resulted in multiple fatalities during Royal Challengers Bengaluru's victory parade. The team ha Times Of [...] ![Image 2: RCB Victory Parade: At least 8 Dead, Several Injured In Stampede Outside Bengaluru Stadium](https://static.toiimg.com/thumb/msid-121649905,imgsize-1938540,width-400,resizemode-4/121649905.jpg) [...] [](https://timesofindia.indiatimes.com/india/rcb-victory-turns-tragic-several-dead-over-many-injured-in-stampede-outside-chinnaswamy-stadium/articleshow/121624037.cms)[Celebration turns tragedy: 11 dead in Bengaluru stampede; political slugfest erupts India News: Tragedy struck Royal Challengers Bengaluru's IPL victory celebrations as a stampede near Chinnaswamy Stadium resulted in eight fatalities and over 40 Times Of\",\n",
       "  'score': 0.7213709},\n",
       " {'title': \"Krunal Pandya breaks silence, says RCB victory parade 'was meant ...\",\n",
       "  'url': 'https://timesofindia.indiatimes.com/sports/cricket/ipl/top-stories/bengaluru-stampede-krunal-pandya-breaks-silence-says-rcb-victory-parade-was-meant-to-share-our-joy/articleshow/121644873.cms',\n",
       "  'content': \"A stampede outside Bengaluru's M. Chinnaswamy Stadium resulted in multiple fatalities during Royal Challengers Bengaluru's victory parade. The\",\n",
       "  'score': 0.7106489},\n",
       " {'title': \"Bengaluru: Stampede At RCB's Victory Parade Kills 11; Virat Kohli ...\",\n",
       "  'url': 'https://www.youtube.com/watch?v=AgKakcHuJWY',\n",
       "  'content': 'big crowd. stadium is 35,000 capacity but more than three lakh people were there on the stadium and on the streets of from the airport also I think very massive crowd was there it was unbelievable this incident has happened at the stadium where the doors were been uh they have broken the doors itself it is unfortunate gates have been broken So we fully apologize for this. RCB also has uh come out with a statement on this but still we wanted to know the fact and we want to give a clear message. [...] At least 11 people died, and 33 others were injured in a stampede outside the Chinnaswamy Stadium in Bengaluru, as a huge crowd of fans gathered to greet the Bengaluru team after their victory in the Indian Premier League, ending an 18-year wait. Prime Minister Narendra Modi reacted to the stampede in Bengaluru, calling the \"mishap absolutely heartrending.\" Karnataka Chief Minister Siddaramaiah stated that over two lakh people had turned up for the celebrations outside M Chinnaswamy Stadium,',\n",
       "  'score': 0.6894943}]"
      ]
     },
     "execution_count": 20,
     "metadata": {},
     "output_type": "execute_result"
    }
   ],
   "source": [
    "tool.run('what happened in RCB victory pared')"
   ]
  },
  {
   "cell_type": "markdown",
   "id": "1195061b",
   "metadata": {},
   "source": [
    "# Custom Tools"
   ]
  },
  {
   "cell_type": "code",
   "execution_count": 31,
   "id": "f47310e5",
   "metadata": {},
   "outputs": [],
   "source": [
    "from langchain.agents import tool"
   ]
  },
  {
   "cell_type": "code",
   "execution_count": 32,
   "id": "b817086e",
   "metadata": {},
   "outputs": [],
   "source": [
    "@tool\n",
    "def multipy(a:int, b:int) -> int:\n",
    "    \"\"\"\n",
    "    Multiplies two integers.\n",
    "    \n",
    "    Args:\n",
    "        a (int): The first integer.\n",
    "        b (int): The second integer.\n",
    "        \n",
    "    Returns:\n",
    "        int: The product of the two integers.\n",
    "    \"\"\"\n",
    "    return a * b"
   ]
  },
  {
   "cell_type": "code",
   "execution_count": null,
   "id": "c20f1ec3",
   "metadata": {},
   "outputs": [
    {
     "data": {
      "text/plain": [
       "200"
      ]
     },
     "execution_count": 41,
     "metadata": {},
     "output_type": "execute_result"
    }
   ],
   "source": [
    "multipy.run({\"a\":10,\"b\":20})\n",
    "multipy.invoke({\"a\":10,\"b\":20})"
   ]
  },
  {
   "cell_type": "code",
   "execution_count": 44,
   "id": "8c6e1c7d",
   "metadata": {},
   "outputs": [
    {
     "data": {
      "text/plain": [
       "'multipy'"
      ]
     },
     "execution_count": 44,
     "metadata": {},
     "output_type": "execute_result"
    }
   ],
   "source": [
    "multipy.name"
   ]
  },
  {
   "cell_type": "code",
   "execution_count": 45,
   "id": "5520d018",
   "metadata": {},
   "outputs": [
    {
     "data": {
      "text/plain": [
       "'Multiplies two integers.\\n\\nArgs:\\n    a (int): The first integer.\\n    b (int): The second integer.\\n\\nReturns:\\n    int: The product of the two integers.'"
      ]
     },
     "execution_count": 45,
     "metadata": {},
     "output_type": "execute_result"
    }
   ],
   "source": [
    "multipy.description"
   ]
  },
  {
   "cell_type": "code",
   "execution_count": 46,
   "id": "03ad812b",
   "metadata": {},
   "outputs": [
    {
     "data": {
      "text/plain": [
       "{'a': {'title': 'A', 'type': 'integer'},\n",
       " 'b': {'title': 'B', 'type': 'integer'}}"
      ]
     },
     "execution_count": 46,
     "metadata": {},
     "output_type": "execute_result"
    }
   ],
   "source": [
    "multipy.args"
   ]
  },
  {
   "cell_type": "code",
   "execution_count": 47,
   "id": "b61d0cd2",
   "metadata": {},
   "outputs": [],
   "source": [
    "def get_word_length(word:str)->int:\n",
    "    return len(word)"
   ]
  },
  {
   "cell_type": "code",
   "execution_count": 48,
   "id": "5fe1db5b",
   "metadata": {},
   "outputs": [
    {
     "data": {
      "text/plain": [
       "12"
      ]
     },
     "execution_count": 48,
     "metadata": {},
     "output_type": "execute_result"
    }
   ],
   "source": [
    "get_word_length(\"Nilesh Patil\")"
   ]
  },
  {
   "cell_type": "code",
   "execution_count": 49,
   "id": "82d6e468",
   "metadata": {},
   "outputs": [
    {
     "data": {
      "text/plain": [
       "6"
      ]
     },
     "execution_count": 49,
     "metadata": {},
     "output_type": "execute_result"
    }
   ],
   "source": [
    "get_word_length(\"Kasari\")"
   ]
  },
  {
   "cell_type": "code",
   "execution_count": 54,
   "id": "d6d1d6bc",
   "metadata": {},
   "outputs": [],
   "source": [
    "@tool\n",
    "def get_word_length(word:str)->int:\n",
    "    \"\"\"This function is calculating a lenght of the word\n",
    "    \"\"\"\n",
    "    return len(word)"
   ]
  },
  {
   "cell_type": "code",
   "execution_count": 55,
   "id": "79b289ca",
   "metadata": {},
   "outputs": [
    {
     "data": {
      "text/plain": [
       "'get_word_length'"
      ]
     },
     "execution_count": 55,
     "metadata": {},
     "output_type": "execute_result"
    }
   ],
   "source": [
    "get_word_length.name"
   ]
  },
  {
   "cell_type": "code",
   "execution_count": 56,
   "id": "99b52cc2",
   "metadata": {},
   "outputs": [
    {
     "data": {
      "text/plain": [
       "'This function is calculating a lenght of the word'"
      ]
     },
     "execution_count": 56,
     "metadata": {},
     "output_type": "execute_result"
    }
   ],
   "source": [
    "get_word_length.description"
   ]
  },
  {
   "cell_type": "code",
   "execution_count": 57,
   "id": "a64d54a1",
   "metadata": {},
   "outputs": [
    {
     "data": {
      "text/plain": [
       "{'word': {'title': 'Word', 'type': 'string'}}"
      ]
     },
     "execution_count": 57,
     "metadata": {},
     "output_type": "execute_result"
    }
   ],
   "source": [
    "get_word_length.args"
   ]
  },
  {
   "cell_type": "code",
   "execution_count": 58,
   "id": "ce47dcfb",
   "metadata": {},
   "outputs": [
    {
     "data": {
      "text/plain": [
       "12"
      ]
     },
     "execution_count": 58,
     "metadata": {},
     "output_type": "execute_result"
    }
   ],
   "source": [
    "get_word_length.invoke({\"word\":\"Nilesh Patil\"})"
   ]
  },
  {
   "cell_type": "code",
   "execution_count": 59,
   "id": "5c9130d3",
   "metadata": {},
   "outputs": [
    {
     "data": {
      "text/plain": [
       "6"
      ]
     },
     "execution_count": 59,
     "metadata": {},
     "output_type": "execute_result"
    }
   ],
   "source": [
    "get_word_length.invoke({\"word\":\"Kasari\"})"
   ]
  },
  {
   "cell_type": "code",
   "execution_count": 61,
   "id": "1b60cc62",
   "metadata": {},
   "outputs": [],
   "source": [
    "@tool\n",
    "def call_gmail_api(args):\n",
    "    \"\"\"\n",
    "    Calls the Gmail API to send an email.\n",
    "    \"\"\"\n",
    "    pass"
   ]
  },
  {
   "cell_type": "code",
   "execution_count": null,
   "id": "ef308f4b",
   "metadata": {},
   "outputs": [],
   "source": []
  }
 ],
 "metadata": {
  "kernelspec": {
   "display_name": "Python 3",
   "language": "python",
   "name": "python3"
  },
  "language_info": {
   "codemirror_mode": {
    "name": "ipython",
    "version": 3
   },
   "file_extension": ".py",
   "mimetype": "text/x-python",
   "name": "python",
   "nbconvert_exporter": "python",
   "pygments_lexer": "ipython3",
   "version": "3.13.0"
  }
 },
 "nbformat": 4,
 "nbformat_minor": 5
}
