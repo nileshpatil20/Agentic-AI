{
 "cells": [
  {
   "cell_type": "markdown",
   "id": "017abe4b",
   "metadata": {},
   "source": [
    "# LangGraph Workflow"
   ]
  },
  {
   "cell_type": "markdown",
   "id": "1237a8ed",
   "metadata": {},
   "source": [
    "## example 1"
   ]
  },
  {
   "cell_type": "markdown",
   "id": "2f14f45b",
   "metadata": {},
   "source": [
    "### Custom Functions"
   ]
  },
  {
   "cell_type": "code",
   "execution_count": 1,
   "id": "44b5bf36",
   "metadata": {},
   "outputs": [],
   "source": [
    "def function1(input1):\n",
    "    return input1+\" from first function\""
   ]
  },
  {
   "cell_type": "code",
   "execution_count": 2,
   "id": "0f9494d4",
   "metadata": {},
   "outputs": [],
   "source": [
    "def function2(input2):\n",
    "    return input2+\" from second function\""
   ]
  },
  {
   "cell_type": "code",
   "execution_count": 4,
   "id": "0728aa44",
   "metadata": {},
   "outputs": [
    {
     "data": {
      "text/plain": [
       "'Nilesh from first function'"
      ]
     },
     "execution_count": 4,
     "metadata": {},
     "output_type": "execute_result"
    }
   ],
   "source": [
    "function1(\"Nilesh\")"
   ]
  },
  {
   "cell_type": "code",
   "execution_count": 5,
   "id": "8becd571",
   "metadata": {},
   "outputs": [
    {
     "data": {
      "text/plain": [
       "'Patil from second function'"
      ]
     },
     "execution_count": 5,
     "metadata": {},
     "output_type": "execute_result"
    }
   ],
   "source": [
    "function2(\"Patil\")"
   ]
  },
  {
   "cell_type": "code",
   "execution_count": 6,
   "id": "0a483a99",
   "metadata": {},
   "outputs": [],
   "source": [
    "from langgraph.graph import Graph\n",
    "workflow1=Graph()\n",
    "workflow1.add_node(\"func1\", function1)\n",
    "workflow1.add_node(\"func2\", function2)\n",
    "workflow1.add_edge(\"func1\", \"func2\")\n",
    "workflow1.set_entry_point(\"func1\")\n",
    "workflow1.set_finish_point(\"func2\")\n",
    "app=workflow1.compile()"
   ]
  },
  {
   "cell_type": "code",
   "execution_count": 7,
   "id": "45ca5ba6",
   "metadata": {},
   "outputs": [
    {
     "data": {
      "image/png": "[encoded data removed]",
      "text/plain": [
       "<IPython.core.display.Image object>"
      ]
     },
     "metadata": {},
     "output_type": "display_data"
    }
   ],
   "source": [
    "from IPython.display import Image, display\n",
    "display(Image(app.get_graph().draw_mermaid_png()))"
   ]
  },
  {
   "cell_type": "code",
   "execution_count": 8,
   "id": "e14117a3",
   "metadata": {},
   "outputs": [
    {
     "data": {
      "text/plain": [
       "'Hi this is Nilesh from first function from second function'"
      ]
     },
     "execution_count": 8,
     "metadata": {},
     "output_type": "execute_result"
    }
   ],
   "source": [
    "app.invoke(\"Hi this is Nilesh\")"
   ]
  },
  {
   "cell_type": "code",
   "execution_count": 9,
   "id": "e8c584cc",
   "metadata": {},
   "outputs": [
    {
     "name": "stdout",
     "output_type": "stream",
     "text": [
      "here is the right output: func1 -> Hi this is Nilesh from first function\n",
      "--------------------------------------------------\n",
      "here is the right output: func2 -> Hi this is Nilesh from first function from second function\n",
      "--------------------------------------------------\n"
     ]
    }
   ],
   "source": [
    "for output in app.stream(\"Hi this is Nilesh\"):\n",
    "    for key,value in output.items():\n",
    "        print(f\"here is the right output: {key} -> {value}\")\n",
    "        print(\"--------------------------------------------------\")\n"
   ]
  },
  {
   "cell_type": "markdown",
   "id": "755c90e1",
   "metadata": {},
   "source": [
    "## example 2"
   ]
  },
  {
   "cell_type": "code",
   "execution_count": 10,
   "id": "3baa49e4",
   "metadata": {},
   "outputs": [],
   "source": [
    "from langchain_google_genai import ChatGoogleGenerativeAI\n",
    "\n",
    "def llm(input):\n",
    "    model=ChatGoogleGenerativeAI(model='gemini-1.5-flash')   \n",
    "    output=model.invoke(input) \n",
    "    return output.content"
   ]
  },
  {
   "cell_type": "code",
   "execution_count": 11,
   "id": "44c606a5",
   "metadata": {},
   "outputs": [],
   "source": [
    "def token_counter(input):\n",
    "    tokens=input.split()\n",
    "    token_number = len(tokens)\n",
    "    return f\"total number of tokens in the input is {token_number}\"\n"
   ]
  },
  {
   "cell_type": "code",
   "execution_count": 12,
   "id": "d5fd3dbc",
   "metadata": {},
   "outputs": [],
   "source": [
    "workflow2=Graph()\n",
    "workflow2.add_node(\"My_LLM\",llm)\n",
    "workflow2.add_node(\"My_Token_Counter\", token_counter)\n",
    "workflow2.add_edge(\"My_LLM\", \"My_Token_Counter\")\n",
    "workflow2.set_entry_point(\"My_LLM\")\n",
    "workflow2.set_finish_point(\"My_Token_Counter\")\n",
    "app=workflow2.compile()"
   ]
  },
  {
   "cell_type": "code",
   "execution_count": 13,
   "id": "e9563540",
   "metadata": {},
   "outputs": [
    {
     "data": {
      "image/png": "[encoded data removed]",
      "text/plain": [
       "<IPython.core.display.Image object>"
      ]
     },
     "metadata": {},
     "output_type": "display_data"
    }
   ],
   "source": [
    "from IPython.display import Image, display\n",
    "display(Image(app.get_graph().draw_mermaid_png()))"
   ]
  },
  {
   "cell_type": "code",
   "execution_count": 14,
   "id": "58838d53",
   "metadata": {},
   "outputs": [
    {
     "data": {
      "text/plain": [
       "'total number of tokens in the input is 341'"
      ]
     },
     "execution_count": 14,
     "metadata": {},
     "output_type": "execute_result"
    }
   ],
   "source": [
    "app.invoke(\"Can you tell me about LangGraph?\")"
   ]
  },
  {
   "cell_type": "code",
   "execution_count": 15,
   "id": "b69b4357",
   "metadata": {},
   "outputs": [
    {
     "name": "stdout",
     "output_type": "stream",
     "text": [
      "here is the right output: My_LLM -> LangChain doesn't have a built-in component or module specifically named \"LangGraph.\"  There's no standard or widely recognized library or tool with that name within the LangChain ecosystem or broader NLP community.\n",
      "\n",
      "It's possible:\n",
      "\n",
      "* **You encountered a typo or a slightly different name:**  Perhaps you're thinking of a similar project with a slightly different name, or a custom-built internal tool.  Could you double-check the spelling or provide more context about where you heard about LangGraph?\n",
      "* **It's a very new or niche project:**  New projects emerge frequently in the rapidly evolving field of NLP.  If it's a very recent or less publicized project, it might not have widespread recognition yet.\n",
      "* **It's a private or internal tool:**  Some companies or research groups develop internal tools that aren't publicly available.\n",
      "\n",
      "\n",
      "To help me understand what you're looking for, please provide more details, such as:\n",
      "\n",
      "* **Where did you hear about LangGraph?** (e.g., a research paper, a blog post, a conversation)\n",
      "* **What is its supposed purpose or functionality?** (e.g., knowledge graph construction, language model integration, etc.)\n",
      "\n",
      "With more information, I might be able to offer more relevant information or suggest similar tools.\n",
      "--------------------------------------------------\n",
      "here is the right output: My_Token_Counter -> total number of tokens in the input is 191\n",
      "--------------------------------------------------\n"
     ]
    }
   ],
   "source": [
    "for output in app.stream(\"Can you tell me about LangGraph?\"):\n",
    "    for key,value in output.items():\n",
    "        print(f\"here is the right output: {key} -> {value}\")\n",
    "        print(\"--------------------------------------------------\")\n"
   ]
  },
  {
   "cell_type": "code",
   "execution_count": 16,
   "id": "de749620",
   "metadata": {},
   "outputs": [
    {
     "name": "stdout",
     "output_type": "stream",
     "text": [
      "here is the right output: My_LLM -> Tata Enterprises isn't a single entity; it's a massive, complex conglomerate, the Tata Group.  To understand it in detail requires breaking down several aspects:\n",
      "\n",
      "**1. Structure & Ownership:**\n",
      "\n",
      "* **Holding Company Structure:** The Tata Group isn't a single corporation but a network of independent operating companies, many publicly listed, held together by a complex web of shareholding through various trusts and holding companies.  Tata Sons is the principal holding company, owning significant stakes in many key Tata companies.\n",
      "* **Tata Trusts:**  The Tata Trusts are a group of philanthropic trusts that own a significant stake in Tata Sons, exerting considerable influence over the group's direction and ensuring its commitment to social responsibility.  This unique structure distinguishes the Tata Group from many other conglomerates.\n",
      "* **Decentralized Management:**  While Tata Sons provides overall direction and strategic guidance, individual operating companies largely manage their own affairs, fostering a degree of autonomy and accountability.\n",
      "\n",
      "**2. Businesses & Industries:**\n",
      "\n",
      "The Tata Group's reach spans an incredibly diverse range of sectors, including:\n",
      "\n",
      "* **Automotive:** Tata Motors (including Jaguar Land Rover), Tata Daewoo\n",
      "* **Steel:** Tata Steel\n",
      "* **IT Services:** Tata Consultancy Services (TCS), Tata Elxsi, Tata Technologies\n",
      "* **Telecommunications:** Tata Teleservices (partially divested)\n",
      "* **Consumer Goods:** Tata Consumer Products (tea, coffee, salt, etc.), Tata Global Beverages\n",
      "* **Chemicals:** Tata Chemicals\n",
      "* **Energy:** Tata Power, Tata Renewable Energy\n",
      "* **Hospitality:** Indian Hotels Company (Taj Hotels), TajSATS\n",
      "* **Aerospace & Defence:** Tata Advanced Systems\n",
      "* **Retail:** Trent (Westside, Star Bazaar)\n",
      "* **Financial Services:** Tata Capital, Tata AIA Life Insurance\n",
      "\n",
      "This list is not exhaustive; the group has numerous other smaller companies and ventures.\n",
      "\n",
      "**3. Global Presence:**\n",
      "\n",
      "The Tata Group has a significant international footprint, particularly in Europe, North America, and Asia.  Jaguar Land Rover, for example, is a major global player in the luxury automotive market.  TCS is a leading global IT services provider.\n",
      "\n",
      "**4. History & Legacy:**\n",
      "\n",
      "Founded by Jamsetji Tata in 1868, the group has a long and rich history, built on principles of ethical business practices, social responsibility, and long-term vision. This legacy is deeply ingrained in the group's culture and continues to shape its strategy.\n",
      "\n",
      "**5. Challenges & Future:**\n",
      "\n",
      "Like any large conglomerate, the Tata Group faces various challenges:\n",
      "\n",
      "* **Competition:**  Intense competition in many of its operating sectors.\n",
      "* **Economic fluctuations:**  Vulnerability to global economic downturns.\n",
      "* **Succession planning:**  Ensuring smooth leadership transitions within the group.\n",
      "* **Maintaining its values:**  Balancing profitability with its commitment to social responsibility.\n",
      "* **Technological disruption:**  Adapting to rapid technological change across its various businesses.\n",
      "\n",
      "**6. Social Responsibility & Philanthropy:**\n",
      "\n",
      "The Tata Trusts' significant ownership and influence ensure a strong focus on social responsibility. The group engages in substantial philanthropic activities, contributing to education, healthcare, rural development, and other social causes.  This commitment is a defining characteristic of the Tata Group.\n",
      "\n",
      "\n",
      "In summary, the Tata Group is far more than just a collection of companies; it's a complex, interwoven network built on a unique structure, a long history, and a deeply ingrained commitment to ethical business practices and social responsibility.  Understanding its intricacies requires delving into the individual companies and the roles of the Tata Trusts and Tata Sons.\n",
      "--------------------------------------------------\n",
      "here is the right output: My_Token_Counter -> total number of tokens in the input is 521\n",
      "--------------------------------------------------\n"
     ]
    }
   ],
   "source": [
    "for output in app.stream(\"Can you tell me about tata enterprise in details?\"):\n",
    "    for key,value in output.items():\n",
    "        print(f\"here is the right output: {key} -> {value}\")\n",
    "        print(\"--------------------------------------------------\")\n"
   ]
  },
  {
   "cell_type": "code",
   "execution_count": null,
   "id": "e64641e4",
   "metadata": {},
   "outputs": [],
   "source": []
  }
 ],
 "metadata": {
  "kernelspec": {
   "display_name": "Python 3",
   "language": "python",
   "name": "python3"
  },
  "language_info": {
   "codemirror_mode": {
    "name": "ipython",
    "version": 3
   },
   "file_extension": ".py",
   "mimetype": "text/x-python",
   "name": "python",
   "nbconvert_exporter": "python",
   "pygments_lexer": "ipython3",
   "version": "3.13.0"
  }
 },
 "nbformat": 4,
 "nbformat_minor": 5
}
