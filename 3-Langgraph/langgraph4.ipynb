{
 "cells": [
  {
   "cell_type": "code",
   "execution_count": 1,
   "id": "7539c245",
   "metadata": {},
   "outputs": [],
   "source": [
    "import operator\n",
    "from langchain_core.tools import tool\n",
    "from langgraph.graph.message import add_messages\n",
    "from pydantic import BaseModel,Field\n",
    "from typing import TypedDict, Annotated, Sequence\n",
    "from langchain_core.messages import BaseMessage\n",
    "from langchain.output_parsers import PydanticOutputParser\n",
    "from langchain_core.output_parsers import StrOutputParser\n",
    "from langchain_core.prompts import ChatPromptTemplate, PromptTemplate\n",
    "from langchain_core.runnables import RunnablePassthrough\n",
    "from langchain_core.messages import HumanMessage, AIMessage\n",
    "from langgraph.graph import StateGraph, MessagesState, START, END\n",
    "from langgraph.prebuilt import ToolNode\n",
    "\n",
    "# Load environment variables from .env file\n",
    "from dotenv import load_dotenv\n",
    "load_dotenv()\n",
    "import os"
   ]
  },
  {
   "cell_type": "markdown",
   "id": "f0e1efab",
   "metadata": {},
   "source": [
    "## Configure the model"
   ]
  },
  {
   "cell_type": "code",
   "execution_count": 2,
   "id": "e4f3708e",
   "metadata": {},
   "outputs": [
    {
     "name": "stdout",
     "output_type": "stream",
     "text": [
      "<think>\n",
      "\n",
      "</think>\n",
      "\n",
      "The capital of France is Paris.\n"
     ]
    }
   ],
   "source": [
    "# Set the environment variable for the Groq API key\n",
    "os.environ['GROQ_API_KEY']=os.getenv(\"GROQ_API_KEY\")\n",
    "\n",
    "# Import the necessary model from langchain_groq\n",
    "from langchain_groq import ChatGroq\n",
    "model = ChatGroq(model_name=\"deepseek-r1-distill-llama-70b\", temperature=0.1)\n",
    "\n",
    "# from langchain_google_genai import ChatGoogleGenerativeAI\n",
    "# model=ChatGoogleGenerativeAI(model=\"gemini-1.5-flash\")\n",
    "\n",
    "output=model.invoke(\"What is the capital of France?\")\n",
    "print(output.content)"
   ]
  },
  {
   "cell_type": "code",
   "execution_count": 3,
   "id": "57a05c86",
   "metadata": {},
   "outputs": [],
   "source": [
    "from langchain.tools import tool"
   ]
  },
  {
   "cell_type": "markdown",
   "id": "d8a82ff8",
   "metadata": {},
   "source": [
    "## Custom tools"
   ]
  },
  {
   "cell_type": "code",
   "execution_count": 4,
   "id": "f2ef77bc",
   "metadata": {},
   "outputs": [],
   "source": [
    "#\n",
    "@tool\n",
    "def multiply(x: int, y: int) -> int:\n",
    "    \"\"\"Multiplies two numbers.\n",
    "    Args:\n",
    "        x (int): The first number.\n",
    "        y (int): The second number.\n",
    "    Returns:\n",
    "        int: The product of x and y.\n",
    "    \"\"\"\n",
    "    return x * y\n",
    "\n",
    "@tool\n",
    "def add(x: int, y: int) -> int:\n",
    "    \"\"\"Adds two numbers.\n",
    "    Args:\n",
    "        x (int): The first number.\n",
    "        y (int): The second number.\n",
    "    Returns:\n",
    "        int: The sum of x and y.\n",
    "    \"\"\"\n",
    "    return x + y\n",
    "\n",
    "@tool\n",
    "def divide(x: int, y: int) -> float:\n",
    "    \"\"\"Divides two numbers.\n",
    "    Args:\n",
    "        x (int): The numerator.\n",
    "        y (int): The denominator.\n",
    "    Returns:\n",
    "        float: The result of x divided by y.\n",
    "    \"\"\"\n",
    "    if y == 0:\n",
    "        raise ValueError(\"Cannot divide by zero.\")\n",
    "    return x / y"
   ]
  },
  {
   "cell_type": "markdown",
   "id": "7a2db302",
   "metadata": {},
   "source": [
    "## importing the inbuilt tools"
   ]
  },
  {
   "cell_type": "code",
   "execution_count": 5,
   "id": "91900ea1",
   "metadata": {},
   "outputs": [
    {
     "data": {
      "text/plain": [
       "\"Paris, city and capital of France, located along the Seine River, in the north-central part of the country. Paris is one of the world's most important and attractive cities, famed for its gastronomy, haute couture, painting, literature, and intellectual community. Learn more about Paris in this article. France, a country of northwestern Europe, is historically and culturally among the most important countries in the Western world. It has also played a highly significant role in international affairs for centuries. Its capital is Paris, one of the most important cultural and commercial centers in the world. Paris, the capital of France, is located in the north-central portion of the country. It constitutes one of the départements of the Île-de-France administrative region and is France's most important centre of commerce and culture. The city is home to the Eiffel Tower, one of the world's premier tourist attractions, which opened to the public on May 15, 1889. France: The capital of France is Paris. Paris is not only the political capital but also a major cultural and economic center. It is famous for landmarks such as the Eiffel Tower, Notre-Dame Cathedral, and the Louvre Museum. Germany: The capital of Germany is Berlin. Berlin is known for its rich history and cultural significance, including the ... Paris (French pronunciation: [paʁi] ) is the capital and largest city of France. With an estimated population of 2,048,472 residents in January 2025 in an area of more than 105 km2 (41 sq mi), Paris is the fourth-most populous city in the European Union and the 30th most densely populated city in the world in 2022.\""
      ]
     },
     "execution_count": 5,
     "metadata": {},
     "output_type": "execute_result"
    }
   ],
   "source": [
    "from langchain_community.tools import DuckDuckGoSearchRun\n",
    "search = DuckDuckGoSearchRun()\n",
    "search.invoke(\"What is the capital of France?\")"
   ]
  },
  {
   "cell_type": "code",
   "execution_count": 6,
   "id": "c6ec9c02",
   "metadata": {},
   "outputs": [
    {
     "name": "stdout",
     "output_type": "stream",
     "text": [
      "The Tata Group was founded in the year 1868 by Jamsetji Tata.\n",
      "\n",
      "Step-by-step explanation:\n",
      "1. Identify the founder: Jamsetji Tata.\n",
      "2. Recall historical context: Late 19th century, during the British Raj.\n",
      "3. Associate with key industries: Steel and motors.\n",
      "4. Conclude the founding year: 1868.\n",
      "\n",
      "Answer: 1868\n"
     ]
    }
   ],
   "source": [
    "# Define the tools to be used in the graph\n",
    "tools = [multiply, add, divide, search]\n",
    "\n",
    "# Bind the tools to the model\n",
    "llm_with_tools = model.bind_tools(tools)\n",
    "\n",
    "respone = llm_with_tools.invoke(\"In which year Tata Group founded?\")\n",
    "print(respone.content)"
   ]
  },
  {
   "cell_type": "code",
   "execution_count": 7,
   "id": "de89bcce",
   "metadata": {},
   "outputs": [
    {
     "data": {
      "text/plain": [
       "[]"
      ]
     },
     "execution_count": 7,
     "metadata": {},
     "output_type": "execute_result"
    }
   ],
   "source": [
    "respone.tool_calls"
   ]
  },
  {
   "cell_type": "code",
   "execution_count": null,
   "id": "eedbea99",
   "metadata": {},
   "outputs": [],
   "source": [
    "# Define the system prompt for the LLM\n",
    "SYSTEM_PROMPT=\"You are a helpful assistant tasked with using search and performing arithmetic on a set of inputs.\"\n",
    "\n",
    "# LLM with tools to handle the first step in the state graph\n",
    "def function1(state:MessagesState):\n",
    "    \"\"\"\n",
    "    Function to handle the first step in the state graph.\n",
    "    It takes the current state, retrieves the user question from the messages,\n",
    "    and invokes the LLM with tools to get a response.\n",
    "    \"\"\"    \n",
    "    # Retrieve the user question from the state messages\n",
    "    user_question=state[\"messages\"]\n",
    "    input_question = [SYSTEM_PROMPT]+user_question\n",
    "    response = llm_with_tools.invoke(input_question)\n",
    "    \n",
    "    return {\n",
    "        \"messages\":[response]\n",
    "    }"
   ]
  },
  {
   "cell_type": "code",
   "execution_count": 14,
   "id": "dd6e18d5",
   "metadata": {},
   "outputs": [
    {
     "data": {
      "image/png": "[encoded data removed]",
      "text/plain": [
       "<IPython.core.display.Image object>"
      ]
     },
     "metadata": {},
     "output_type": "display_data"
    }
   ],
   "source": [
    "from langchain_core.messages import AIMessage, HumanMessage, SystemMessage\n",
    "from langgraph.graph import MessagesState, StateGraph, START, END\n",
    "from langgraph.prebuilt import ToolNode, tools_condition\n",
    "\n",
    "# Define the state graph\n",
    "builder = StateGraph(MessagesState)\n",
    "builder.add_node(\"LLM decision step\", function1)\n",
    "builder.add_node(\"Tools node\", ToolNode(tools))\n",
    "builder.add_edge(START, \"LLM decision step\")\n",
    "builder.add_conditional_edges(\"LLM decision step\", tools_condition, {\"tools\": \"Tools node\", END:END})\n",
    "builder.add_edge(\"Tools node\", \"LLM decision step\")\n",
    "react_graph = builder.compile()\n",
    "\n",
    "from IPython.display import display, Image\n",
    "display(Image(react_graph.get_graph().draw_mermaid_png()))"
   ]
  },
  {
   "cell_type": "code",
   "execution_count": null,
   "id": "2b4cf77c",
   "metadata": {},
   "outputs": [
    {
     "data": {
      "text/plain": [
       "{'messages': [HumanMessage(content=\"What is 2 times of narendramodi's age?\", additional_kwargs={}, response_metadata={}, id='606c2953-d303-48d6-b455-5e878bb3e778'),\n",
       "  AIMessage(content='', additional_kwargs={'tool_calls': [{'id': 'wsegxkxhq', 'function': {'arguments': '{\"query\":\"Narendra Modi age\"}', 'name': 'duckduckgo_search'}, 'type': 'function'}]}, response_metadata={'token_usage': {'completion_tokens': 401, 'prompt_tokens': 415, 'total_tokens': 816, 'completion_time': 1.458181818, 'prompt_time': 0.034414439, 'queue_time': 0.056973522000000006, 'total_time': 1.492596257}, 'model_name': 'deepseek-r1-distill-llama-70b', 'system_fingerprint': 'fp_1bbe7845ec', 'finish_reason': 'tool_calls', 'logprobs': None}, id='run--eb6fbe09-ba7d-42ba-a942-2798ce3432b6-0', tool_calls=[{'name': 'duckduckgo_search', 'args': {'query': 'Narendra Modi age'}, 'id': 'wsegxkxhq', 'type': 'tool_call'}], usage_metadata={'input_tokens': 415, 'output_tokens': 401, 'total_tokens': 816}),\n",
       "  ToolMessage(content='Narendra Modi (born September 17, 1950, Vadnagar, India) is an Indian politician and government official who rose to become a senior leader of the Bharatiya Janata Party (BJP). In 2014 he led his party to victory in elections to the Lok Sabha (lower chamber of the Indian parliament), after which he was sworn in as prime minister of India.Prior to that he had served (2001-14) as chief ... List of all Prime Ministers of India till 2025: Narendra Modi is the current and 14th Prime Minister of India who assumed office on 10 June 2024. Jawaharlal Nehru is the first and the longest ... Learn about the life and achievements of Narendra Modi, the current Prime Minister of India, who was born on September 17, 1950, in Gujarat. Find out his full name, constituency, education, and political journey from a humble background to a prominent leader. This Narendra Modi biography explores his life, political journey, and the impact he has made on the nation. Narendra Modi biography - Early Life and Childhood. Narendra Modi was born on September 17, 1950, in Vadnagar, a small town in Gujarat, India. He was the third of six children in a modest family. Narendra Modi biography. Here are 20 key details about Narendra Modi: Full Name: Narendra Damodardas Modi.; Date of Birth: September 17, 1950.; Birthplace: Vadnagar, Gujarat, India. Current Position: Prime Minister of India, serving since May 26, 2014. Political Party: Bharatiya Janata Party (BJP). Previous Role: Chief Minister of Gujarat from October 2001 to May 2014.', name='duckduckgo_search', id='a615f664-cf46-4d64-8b86-7aa92387e944', tool_call_id='wsegxkxhq'),\n",
       "  AIMessage(content='', additional_kwargs={'tool_calls': [{'id': 'g267dk5r4', 'function': {'arguments': '{\"x\":73,\"y\":2}', 'name': 'multiply'}, 'type': 'function'}]}, response_metadata={'token_usage': {'completion_tokens': 203, 'prompt_tokens': 831, 'total_tokens': 1034, 'completion_time': 0.738181818, 'prompt_time': 0.061309202, 'queue_time': 0.057555927, 'total_time': 0.79949102}, 'model_name': 'deepseek-r1-distill-llama-70b', 'system_fingerprint': 'fp_1bbe7845ec', 'finish_reason': 'tool_calls', 'logprobs': None}, id='run--98a870c5-4c1b-417a-b698-f54084be066b-0', tool_calls=[{'name': 'multiply', 'args': {'x': 73, 'y': 2}, 'id': 'g267dk5r4', 'type': 'tool_call'}], usage_metadata={'input_tokens': 831, 'output_tokens': 203, 'total_tokens': 1034}),\n",
       "  ToolMessage(content='146', name='multiply', id='2d9c3894-2114-46c7-817c-2f2b4b1935cd', tool_call_id='g267dk5r4'),\n",
       "  AIMessage(content=\"\\n\\nNarendra Modi is 73 years old as of 2023. Therefore, 2 times Narendra Modi's age is 146.\", additional_kwargs={}, response_metadata={'token_usage': {'completion_tokens': 29, 'prompt_tokens': 884, 'total_tokens': 913, 'completion_time': 0.107647819, 'prompt_time': 0.065158864, 'queue_time': 0.057867498, 'total_time': 0.172806683}, 'model_name': 'deepseek-r1-distill-llama-70b', 'system_fingerprint': 'fp_1bbe7845ec', 'finish_reason': 'stop', 'logprobs': None}, id='run--73c807b4-ed5d-43f2-90fa-150576536987-0', usage_metadata={'input_tokens': 884, 'output_tokens': 29, 'total_tokens': 913})]}"
      ]
     },
     "execution_count": 16,
     "metadata": {},
     "output_type": "execute_result"
    }
   ],
   "source": [
    "# Example usage of the state graph\n",
    "message=[HumanMessage(content=\"What is 2 times of narendramodi's age?\")]\n",
    "react_graph.invoke({\"messages\":message})"
   ]
  },
  {
   "cell_type": "code",
   "execution_count": null,
   "id": "658346fd",
   "metadata": {},
   "outputs": [
    {
     "data": {
      "text/plain": [
       "{'messages': [HumanMessage(content='How much is the net worth of Elon Musk, and divide it by 2?', additional_kwargs={}, response_metadata={}, id='c4385494-10dd-4a3d-b069-f2d5cc8275ad'),\n",
       "  AIMessage(content='', additional_kwargs={'tool_calls': [{'id': 'wh0mn5pfa', 'function': {'arguments': '{\"query\":\"Elon Musk net worth 2023\"}', 'name': 'duckduckgo_search'}, 'type': 'function'}]}, response_metadata={'token_usage': {'completion_tokens': 451, 'prompt_tokens': 419, 'total_tokens': 870, 'completion_time': 1.765094253, 'prompt_time': 0.033560145, 'queue_time': 0.053308655999999996, 'total_time': 1.798654398}, 'model_name': 'deepseek-r1-distill-llama-70b', 'system_fingerprint': 'fp_1bbe7845ec', 'finish_reason': 'tool_calls', 'logprobs': None}, id='run--967a64e3-a7d5-4ed3-a00f-eb9dcc717548-0', tool_calls=[{'name': 'duckduckgo_search', 'args': {'query': 'Elon Musk net worth 2023'}, 'id': 'wh0mn5pfa', 'type': 'tool_call'}], usage_metadata={'input_tokens': 419, 'output_tokens': 451, 'total_tokens': 870}),\n",
       "  ToolMessage(content=\"Elon Musk Net worth: $423 billion Source: Tesla, SpaceX, xAI, X Age: 53 ... 2023 and held onto the number one spot for the remainder of 2023. He fell to No. 2 on January 31, 2024. The wealthiest among them is Elon Musk, CEO of Tesla and SpaceX. ... Net Worth: $379 billion; Tesla Ownership Stake: 13% ($142 billion) ... Musk founded xAI in 2023. It is an artificial ... South Africa-born Tesla and SpaceX boss Elon Musk has seen his net worth surpass $440 billion ... (GDP) figure according to the World Bank which, as of 2023, stood at $377.78 billion. Tesla shares fell after Elon Musk's public disagreement with the president. Musk's net worth, though still the world's highest, has fluctuated significantly, peaking at $400 billion in December 2024. Elon Musk's net worth soared by $33.5 billion after Tesla shares surged 22%, marking their biggest gain in over a decade. The automaker has reported its largest quarterly profit since summer 2023.\", name='duckduckgo_search', id='1a339398-986f-4e52-8afe-6ed5ad74c61b', tool_call_id='wh0mn5pfa'),\n",
       "  AIMessage(content='', additional_kwargs={'tool_calls': [{'id': 'cqt23k350', 'function': {'arguments': '{\"x\":423,\"y\":2}', 'name': 'divide'}, 'type': 'function'}]}, response_metadata={'token_usage': {'completion_tokens': 329, 'prompt_tokens': 712, 'total_tokens': 1041, 'completion_time': 1.196363636, 'prompt_time': 0.053407252, 'queue_time': 0.054130107999999996, 'total_time': 1.249770888}, 'model_name': 'deepseek-r1-distill-llama-70b', 'system_fingerprint': 'fp_1bbe7845ec', 'finish_reason': 'tool_calls', 'logprobs': None}, id='run--f2d575a6-b505-4f9a-8e29-2abd68a84a3a-0', tool_calls=[{'name': 'divide', 'args': {'x': 423, 'y': 2}, 'id': 'cqt23k350', 'type': 'tool_call'}], usage_metadata={'input_tokens': 712, 'output_tokens': 329, 'total_tokens': 1041}),\n",
       "  ToolMessage(content='211.5', name='divide', id='c3ac4b4e-d098-4f30-a2a6-2f4cb66a2e47', tool_call_id='cqt23k350'),\n",
       "  AIMessage(content=\"Elon Musk's net worth is $423 billion. Dividing this by 2 gives:\\n\\n\\\\[\\n\\\\boxed{211.5}\\n\\\\]\", additional_kwargs={}, response_metadata={'token_usage': {'completion_tokens': 321, 'prompt_tokens': 766, 'total_tokens': 1087, 'completion_time': 1.240511922, 'prompt_time': 0.05746991, 'queue_time': 0.057396618999999996, 'total_time': 1.297981832}, 'model_name': 'deepseek-r1-distill-llama-70b', 'system_fingerprint': 'fp_1bbe7845ec', 'finish_reason': 'stop', 'logprobs': None}, id='run--d1faa328-e35b-4c97-b73c-ade1bd912096-0', usage_metadata={'input_tokens': 766, 'output_tokens': 321, 'total_tokens': 1087})]}"
      ]
     },
     "execution_count": 17,
     "metadata": {},
     "output_type": "execute_result"
    }
   ],
   "source": [
    "# Example usage of the state graph with a different question\n",
    "message = [HumanMessage(content=\"How much is the net worth of Elon Musk, and divide it by 2?\")]\n",
    "react_graph.invoke({\"messages\": message})"
   ]
  },
  {
   "cell_type": "code",
   "execution_count": 18,
   "id": "f10ce78a",
   "metadata": {},
   "outputs": [
    {
     "data": {
      "text/plain": [
       "{'messages': [HumanMessage(content='What is the speed of light in m/s and multiply it by 10?', additional_kwargs={}, response_metadata={}, id='e8e2c2d0-7feb-493c-988a-7160d0ea922c'),\n",
       "  AIMessage(content='', additional_kwargs={'tool_calls': [{'id': '4yn81h1xt', 'function': {'arguments': '{\"x\":299792458,\"y\":10}', 'name': 'multiply'}, 'type': 'function'}]}, response_metadata={'token_usage': {'completion_tokens': 395, 'prompt_tokens': 418, 'total_tokens': 813, 'completion_time': 1.5580688729999999, 'prompt_time': 0.034520678, 'queue_time': 0.057061350999999996, 'total_time': 1.592589551}, 'model_name': 'deepseek-r1-distill-llama-70b', 'system_fingerprint': 'fp_1bbe7845ec', 'finish_reason': 'tool_calls', 'logprobs': None}, id='run--95444c54-81c3-4683-b636-c06010886f19-0', tool_calls=[{'name': 'multiply', 'args': {'x': 299792458, 'y': 10}, 'id': '4yn81h1xt', 'type': 'tool_call'}], usage_metadata={'input_tokens': 418, 'output_tokens': 395, 'total_tokens': 813}),\n",
       "  ToolMessage(content='2997924580', name='multiply', id='bd0d8ea2-94a9-4cd6-a750-f62e56f95e6b', tool_call_id='4yn81h1xt'),\n",
       "  AIMessage(content='', additional_kwargs={'tool_calls': [{'id': '9fmxre0ax', 'function': {'arguments': '{\"x\":299792458,\"y\":10}', 'name': 'multiply'}, 'type': 'function'}]}, response_metadata={'token_usage': {'completion_tokens': 309, 'prompt_tokens': 476, 'total_tokens': 785, 'completion_time': 1.251163853, 'prompt_time': 0.037367077, 'queue_time': 0.057391924999999996, 'total_time': 1.28853093}, 'model_name': 'deepseek-r1-distill-llama-70b', 'system_fingerprint': 'fp_1bbe7845ec', 'finish_reason': 'tool_calls', 'logprobs': None}, id='run--099cc584-a6c6-45aa-88da-0430fa637c6b-0', tool_calls=[{'name': 'multiply', 'args': {'x': 299792458, 'y': 10}, 'id': '9fmxre0ax', 'type': 'tool_call'}], usage_metadata={'input_tokens': 476, 'output_tokens': 309, 'total_tokens': 785}),\n",
       "  ToolMessage(content='2997924580', name='multiply', id='f0eddb05-c263-499d-8326-251580a6c8b6', tool_call_id='9fmxre0ax'),\n",
       "  AIMessage(content='', additional_kwargs={'tool_calls': [{'id': 't4py8n3a0', 'function': {'arguments': '{\"x\":299792458,\"y\":10}', 'name': 'multiply'}, 'type': 'function'}]}, response_metadata={'token_usage': {'completion_tokens': 400, 'prompt_tokens': 534, 'total_tokens': 934, 'completion_time': 1.4545454549999999, 'prompt_time': 0.042138403, 'queue_time': 0.054158277, 'total_time': 1.496683858}, 'model_name': 'deepseek-r1-distill-llama-70b', 'system_fingerprint': 'fp_1bbe7845ec', 'finish_reason': 'tool_calls', 'logprobs': None}, id='run--1010f7c8-fdd6-4077-ad78-547c27689646-0', tool_calls=[{'name': 'multiply', 'args': {'x': 299792458, 'y': 10}, 'id': 't4py8n3a0', 'type': 'tool_call'}], usage_metadata={'input_tokens': 534, 'output_tokens': 400, 'total_tokens': 934}),\n",
       "  ToolMessage(content='2997924580', name='multiply', id='adae5fa6-eee5-42f8-bcd5-8161e69a4c90', tool_call_id='t4py8n3a0'),\n",
       "  AIMessage(content='The speed of light is approximately 299,792,458 meters per second. When multiplied by 10, the result is:\\n\\n299,792,458 m/s × 10 = 2,997,924,580 m/s\\n\\n**Answer:** 2,997,924,580 m/s', additional_kwargs={}, response_metadata={'token_usage': {'completion_tokens': 323, 'prompt_tokens': 594, 'total_tokens': 917, 'completion_time': 1.174545455, 'prompt_time': 0.038706324, 'queue_time': 0.056994425, 'total_time': 1.213251779}, 'model_name': 'deepseek-r1-distill-llama-70b', 'system_fingerprint': 'fp_1bbe7845ec', 'finish_reason': 'stop', 'logprobs': None}, id='run--fea8d2e7-0625-4c42-805c-a676edde28cd-0', usage_metadata={'input_tokens': 594, 'output_tokens': 323, 'total_tokens': 917})]}"
      ]
     },
     "execution_count": 18,
     "metadata": {},
     "output_type": "execute_result"
    }
   ],
   "source": [
    "# Example usage of the state graph with a search query\n",
    "message = [HumanMessage(content=\"What is the speed of light in m/s and multiply it by 10?\")]\n",
    "react_graph.invoke({\"messages\": message})"
   ]
  },
  {
   "cell_type": "code",
   "execution_count": 19,
   "id": "de4cb3d1",
   "metadata": {},
   "outputs": [
    {
     "name": "stdout",
     "output_type": "stream",
     "text": [
      "here is output from LLM decision step\n",
      "_______\n",
      "{'messages': [AIMessage(content='', additional_kwargs={'tool_calls': [{'id': '7g4eswc38', 'function': {'arguments': '{\"x\":299792458,\"y\":10}', 'name': 'multiply'}, 'type': 'function'}]}, response_metadata={'token_usage': {'completion_tokens': 391, 'prompt_tokens': 418, 'total_tokens': 809, 'completion_time': 1.421818182, 'prompt_time': 0.026797715, 'queue_time': 0.054295258, 'total_time': 1.448615897}, 'model_name': 'deepseek-r1-distill-llama-70b', 'system_fingerprint': 'fp_1bbe7845ec', 'finish_reason': 'tool_calls', 'logprobs': None}, id='run--1b23fa09-d237-4600-86b0-b99d0fb13f8a-0', tool_calls=[{'name': 'multiply', 'args': {'x': 299792458, 'y': 10}, 'id': '7g4eswc38', 'type': 'tool_call'}], usage_metadata={'input_tokens': 418, 'output_tokens': 391, 'total_tokens': 809})]}\n",
      "\n",
      "\n",
      "here is output from Tools node\n",
      "_______\n",
      "{'messages': [ToolMessage(content='2997924580', name='multiply', id='097b8da2-4a71-436d-ae10-e371df83ea38', tool_call_id='7g4eswc38')]}\n",
      "\n",
      "\n",
      "here is output from LLM decision step\n",
      "_______\n",
      "{'messages': [AIMessage(content='The speed of light in meters per second is approximately 299,792,458 m/s. When multiplied by 10, the result is 2,997,924,580 m/s. \\n\\n**Step-by-Step Explanation:**\\n\\n1. **Identify the Speed of Light:** The speed of light in a vacuum is a fundamental constant in physics, approximately \\\\( 299,792,458 \\\\) meters per second.\\n\\n2. **Multiply by 10:** To find ten times the speed of light, multiply the speed by 10.\\n   \\\\[\\n   299,792,458 \\\\, \\\\text{m/s} \\\\times 10 = 2,997,924,580 \\\\, \\\\text{m/s}\\n   \\\\]\\n\\n3. **Present the Results:**\\n   - Speed of light: \\\\( 299,792,458 \\\\, \\\\text{m/s} \\\\)\\n   - Multiplied by 10: \\\\( 2,997,924,580 \\\\, \\\\text{m/s} \\\\)\\n\\nThis provides a clear and accurate answer to the problem.', additional_kwargs={}, response_metadata={'token_usage': {'completion_tokens': 546, 'prompt_tokens': 476, 'total_tokens': 1022, 'completion_time': 1.985454545, 'prompt_time': 0.037579674, 'queue_time': 0.057632476999999994, 'total_time': 2.023034219}, 'model_name': 'deepseek-r1-distill-llama-70b', 'system_fingerprint': 'fp_1bbe7845ec', 'finish_reason': 'stop', 'logprobs': None}, id='run--0b78e05c-b443-40dd-99c9-fd3ad0ae5af6-0', usage_metadata={'input_tokens': 476, 'output_tokens': 546, 'total_tokens': 1022})]}\n",
      "\n",
      "\n"
     ]
    }
   ],
   "source": [
    "# Streaming the response from the state graph\n",
    "for output in react_graph.stream({\"messages\":[\"What is the speed of light in m/s and multiply it by 10?\"]}):\n",
    "    for key,value in output.items():\n",
    "        print(f\"here is output from {key}\")\n",
    "        print(\"_______\")\n",
    "        print(value)\n",
    "        print(\"\\n\")\n",
    "    "
   ]
  },
  {
   "cell_type": "code",
   "execution_count": 23,
   "id": "4e4cb670",
   "metadata": {},
   "outputs": [
    {
     "name": "stdout",
     "output_type": "stream",
     "text": [
      "================================\u001b[1m Human Message \u001b[0m=================================\n",
      "\n",
      "What is the speed of light in m/s and multiply it by 10?\n",
      "==================================\u001b[1m Ai Message \u001b[0m==================================\n",
      "Tool Calls:\n",
      "  multiply (jp5hqy3as)\n",
      " Call ID: jp5hqy3as\n",
      "  Args:\n",
      "    x: 299792458\n",
      "    y: 10\n",
      "=================================\u001b[1m Tool Message \u001b[0m=================================\n",
      "Name: multiply\n",
      "\n",
      "2997924580\n",
      "==================================\u001b[1m Ai Message \u001b[0m==================================\n",
      "\n",
      "The speed of light is approximately **299,792,458 m/s**. When multiplied by 10, the result is **2,997,924,580**.\n"
     ]
    }
   ],
   "source": [
    "# printing the final response using pretty print\n",
    "for event in react_graph.invoke({\"messages\": message})['messages']:\n",
    "    event.pretty_print()"
   ]
  },
  {
   "cell_type": "markdown",
   "id": "6daf7c18",
   "metadata": {},
   "source": [
    "## Add financial tool to fetch stock prices\n"
   ]
  },
  {
   "cell_type": "code",
   "execution_count": null,
   "id": "a791a79e",
   "metadata": {},
   "outputs": [
    {
     "name": "stdout",
     "output_type": "stream",
     "text": [
      "The last closing price of AAPL was $199.20.\n",
      "The last closing price of TSLA was $319.11.\n"
     ]
    },
    {
     "name": "stderr",
     "output_type": "stream",
     "text": [
      "HTTP Error 404: \n"
     ]
    },
    {
     "name": "stdout",
     "output_type": "stream",
     "text": [
      "Could not fetch price for ticker 'NIFTY50.BO'.\n",
      "\n"
     ]
    },
    {
     "data": {
      "text/plain": [
       "[{'name': 'get_stock_price',\n",
       "  'args': {'ticker': 'ADANIGREEN.NS'},\n",
       "  'id': 'e2j4p5cbn',\n",
       "  'type': 'tool_call'}]"
      ]
     },
     "execution_count": 32,
     "metadata": {},
     "output_type": "execute_result"
    }
   ],
   "source": [
    "import yfinance as yf\n",
    "\n",
    "# Define a tool to fetch stock prices using yfinance\n",
    "@tool\n",
    "def get_stock_price(ticker:str)->str:\n",
    "    \"\"\"\n",
    "    Fetches the previous closing price of a given stock ticker from Yahoo Finance.\n",
    "\n",
    "    Args:\n",
    "        ticker (str): The stock ticker symbol (e.g., 'AAPL', 'TSLA', 'NIFTY.BO').\n",
    "\n",
    "    Returns:\n",
    "        str: A message with the stock's previous closing price.\n",
    "    \"\"\"\n",
    "    try:\n",
    "        stock = yf.Ticker(ticker)\n",
    "        price = stock.info.get('previousClose')\n",
    "        if price is None:\n",
    "            return f\"Could not fetch price for ticker '{ticker}'.\"\n",
    "        return f\"The last closing price of {ticker.upper()} was ${price:.2f}.\"\n",
    "    except Exception as e:\n",
    "        return f\"An error occurred while fetching stock data: {str(e)}\"\n",
    "\n",
    "# get stock price for Apple Inc.\n",
    "print(get_stock_price.invoke(\"AAPL\"))\n",
    "\n",
    "# get stock price for Tesla Inc.\n",
    "print(get_stock_price.invoke(\"TSLA\"))\n",
    "\n",
    "# get stock price for Nifty 50\n",
    "print(get_stock_price.invoke(\"NIFTY50.BO\"))\n",
    "\n",
    "# Add the new tool to the list of tools\n",
    "tools = [add, multiply, divide, search,get_stock_price]\n",
    "# Bind the tools to the model again\n",
    "llm_with_tools = model.bind_tools(tools)\n",
    "# Invoke the LLM with tools to get the stock price of Adani Greens\n",
    "response=llm_with_tools.invoke(\"can you give me a latest stock price of adani greens?\")\n",
    "print(response.content)\n",
    "# Note: after invoking the LLM with tools, you can access the tool calls from the response. however until \n",
    "# we don't design the state graph to handle the new tool, it won't show any output.\n",
    "\n",
    "# Access the tool calls from the response\n",
    "response.tool_calls\n",
    "\n"
   ]
  },
  {
   "cell_type": "code",
   "execution_count": null,
   "id": "d15c08a3",
   "metadata": {},
   "outputs": [
    {
     "data": {
      "image/png": "[encoded data removed]",
      "text/plain": [
       "<IPython.core.display.Image object>"
      ]
     },
     "metadata": {},
     "output_type": "display_data"
    }
   ],
   "source": [
    "# Redesign the state graph to include the new stock price tool\n",
    "# Define the system prompt for the LLM\n",
    "SYSTEM_PROMPT = SystemMessage(\n",
    "    content=\"You are a helpful assistant tasked with using search, the yahoo finance tool and performing arithmetic on a set of inputs.\"\n",
    ")\n",
    "# LLM with tools to handle the first step in the state graph\n",
    "def function_1(state:MessagesState):\n",
    "    \n",
    "    user_question=state[\"messages\"]\n",
    "    \n",
    "    input_question = [SYSTEM_PROMPT]+user_question\n",
    "    \n",
    "    response = llm_with_tools.invoke(input_question)\n",
    "    \n",
    "    return {\n",
    "        \"messages\":[response]\n",
    "    }\n",
    "\n",
    "# Define the state graph\n",
    "builder1 = StateGraph(MessagesState)\n",
    "builder1.add_node(\"LLM decision step\", function1)\n",
    "builder1.add_node(\"Tools node\", ToolNode(tools))\n",
    "builder1.add_edge(START, \"LLM decision step\")\n",
    "builder1.add_conditional_edges(\"LLM decision step\", tools_condition, {\"tools\": \"Tools node\", END:END})\n",
    "builder1.add_edge(\"Tools node\", \"LLM decision step\")\n",
    "react_graph1 = builder1.compile()\n",
    "\n",
    "from IPython.display import display, Image\n",
    "display(Image(react_graph1.get_graph().draw_mermaid_png()))"
   ]
  },
  {
   "cell_type": "code",
   "execution_count": 39,
   "id": "1894a784",
   "metadata": {},
   "outputs": [
    {
     "name": "stdout",
     "output_type": "stream",
     "text": [
      "================================\u001b[1m Human Message \u001b[0m=================================\n",
      "\n",
      "add 1000 in the current stock price of Apple.\n",
      "==================================\u001b[1m Ai Message \u001b[0m==================================\n",
      "Tool Calls:\n",
      "  get_stock_price (p195s4zmt)\n",
      " Call ID: p195s4zmt\n",
      "  Args:\n",
      "    ticker: AAPL\n",
      "=================================\u001b[1m Tool Message \u001b[0m=================================\n",
      "Name: get_stock_price\n",
      "\n",
      "The last closing price of AAPL was $199.20.\n",
      "==================================\u001b[1m Ai Message \u001b[0m==================================\n",
      "Tool Calls:\n",
      "  get_stock_price (6845mec5q)\n",
      " Call ID: 6845mec5q\n",
      "  Args:\n",
      "    ticker: AAPL\n",
      "=================================\u001b[1m Tool Message \u001b[0m=================================\n",
      "Name: get_stock_price\n",
      "\n",
      "The last closing price of AAPL was $199.20.\n",
      "==================================\u001b[1m Ai Message \u001b[0m==================================\n",
      "\n",
      "The result of adding 1000 to the current stock price of Apple is **1199.20**.\n"
     ]
    }
   ],
   "source": [
    "# Example usage of the redesigned state graph with the stock price tool\n",
    "messages = [HumanMessage(content=\"add 1000 in the current stock price of Apple.\")]\n",
    "messages = react_graph1.invoke({\"messages\": messages})\n",
    "\n",
    "# printing the final response using pretty print\n",
    "for event in messages['messages']:\n",
    "    event.pretty_print()"
   ]
  },
  {
   "cell_type": "code",
   "execution_count": null,
   "id": "eaa06275",
   "metadata": {},
   "outputs": [],
   "source": []
  }
 ],
 "metadata": {
  "kernelspec": {
   "display_name": "Python 3",
   "language": "python",
   "name": "python3"
  },
  "language_info": {
   "codemirror_mode": {
    "name": "ipython",
    "version": 3
   },
   "file_extension": ".py",
   "mimetype": "text/x-python",
   "name": "python",
   "nbconvert_exporter": "python",
   "pygments_lexer": "ipython3",
   "version": "3.13.0"
  }
 },
 "nbformat": 4,
 "nbformat_minor": 5
}
